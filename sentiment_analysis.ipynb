{
  "nbformat": 4,
  "nbformat_minor": 0,
  "metadata": {
    "colab": {
      "provenance": [],
      "toc_visible": true,
      "include_colab_link": true
    },
    "kernelspec": {
      "display_name": "Python 3",
      "name": "python3"
    }
  },
  "cells": [
    {
      "cell_type": "markdown",
      "metadata": {
        "id": "view-in-github",
        "colab_type": "text"
      },
      "source": [
        "<a href=\"https://colab.research.google.com/github/merouass/Squad-Game/blob/main/sentiment_analysis.ipynb\" target=\"_parent\"><img src=\"https://colab.research.google.com/assets/colab-badge.svg\" alt=\"Open In Colab\"/></a>"
      ]
    },
    {
      "cell_type": "markdown",
      "metadata": {
        "id": "5fCEDCU_qrC0"
      },
      "source": [
        "<p><img alt=\"Colaboratory logo\" height=\"45px\" src=\"/img/colab_favicon.ico\" align=\"left\" hspace=\"10px\" vspace=\"0px\"></p>\n",
        "\n",
        "<h1>Qu'est-ce que Colaboratory ?</h1>\n",
        "\n",
        "Colaboratory, souvent raccourci en \"Colab\", vous permet d'écrire et d'exécuter du code Python dans votre navigateur. Il offre les avantages suivants :\n",
        "- Aucune configuration requise\n",
        "- Accès gratuit aux GPU\n",
        "- Partage facile\n",
        "\n",
        "Que vous soyez <strong>étudiant</strong>, <strong>data scientist</strong> ou <strong>chercheur en IA</strong>, Colab peut vous simplifier la tâche. Regardez la <a href=\"https://www.youtube.com/watch?v=inN8seMm7UI\">présentation de Colab</a> pour en savoir plus ou commencez tout de suite."
      ]
    },
    {
      "cell_type": "markdown",
      "metadata": {
        "id": "GJBs_flRovLc"
      },
      "source": [
        "## <strong>Premiers pas</strong>\n",
        "\n",
        "Le document que vous consultez n'est pas une page Web statique, mais un environnement interactif appelé <strong>notebook Colab</strong>, qui vous permet d'écrire et d'exécuter du code.\n",
        "\n",
        "Voici par exemple une <strong>cellule de code</strong> avec un bref script en Python qui calcule une valeur, l'enregistre dans une variable et imprime le résultat :"
      ]
    },
    {
      "cell_type": "code",
      "metadata": {
        "colab": {
          "base_uri": "https://localhost:8080/",
          "height": 34
        },
        "id": "gJr_9dXGpJ05",
        "outputId": "9f556d03-ec67-4950-a485-cfdba9ddd14d"
      },
      "source": [
        "seconds_in_a_day = 24 * 60 * 60\n",
        "seconds_in_a_day"
      ],
      "execution_count": null,
      "outputs": [
        {
          "output_type": "execute_result",
          "data": {
            "text/plain": [
              "86400"
            ]
          },
          "metadata": {
            "tags": []
          },
          "execution_count": 0
        }
      ]
    },
    {
      "cell_type": "markdown",
      "metadata": {
        "id": "2fhs6GZ4qFMx"
      },
      "source": [
        "Pour exécuter le code dans la cellule ci-dessus, sélectionnez-le en cliquant dessus, puis cliquez sur le bouton de lecture à gauche du code ou utilisez le raccourci clavier Commande/Ctrl+Entrée. Pour modifier le code, cliquez simplement sur la cellule.\n",
        "\n",
        "Les variables que vous définissez dans une cellule peuvent être utilisées par la suite dans d'autres cellules :"
      ]
    },
    {
      "cell_type": "code",
      "metadata": {
        "colab": {
          "base_uri": "https://localhost:8080/",
          "height": 34
        },
        "id": "-gE-Ez1qtyIA",
        "outputId": "94cb2224-0edf-457b-90b5-0ac3488d8a97"
      },
      "source": [
        "seconds_in_a_week = 7 * seconds_in_a_day\n",
        "seconds_in_a_week"
      ],
      "execution_count": null,
      "outputs": [
        {
          "output_type": "execute_result",
          "data": {
            "text/plain": [
              "604800"
            ]
          },
          "metadata": {
            "tags": []
          },
          "execution_count": 0
        }
      ]
    },
    {
      "cell_type": "markdown",
      "metadata": {
        "id": "lSrWNr3MuFUS"
      },
      "source": [
        "Les notebooks Colab vous permettent d'utiliser, dans un même document, du <strong>code exécutable</strong>, du <strong>texte enrichi</strong>, des <strong>images</strong>, du code <strong>HTML</strong>, du code <strong>LaTeX</strong> et bien plus. Lorsque vous créez des notebooks Colab, ils sont enregistrés dans votre compte Google Drive. Vous pouvez facilement les partager avec vos collaborateurs ou vos amis, qui peuvent alors y apporter des commentaires ou même les modifier. Pour en savoir plus, consultez la page <a href=\"/notebooks/basic_features_overview.ipynb\">Présentation de Colaboratory</a>. Pour créer un notebook Colab, utilisez le menu \"Fichier\" ci-dessus ou le lien <a href=\"http://colab.research.google.com#create=true\">Créer un notebook Colab</a>.\n",
        "\n",
        "Les notebooks Colab sont des notebooks Jupyter hébergés par Colab. Pour en savoir plus sur le projet Jupyter, consultez le site Web <a href=\"https://www.jupyter.org\">jupyter.org</a>."
      ]
    },
    {
      "cell_type": "markdown",
      "metadata": {
        "id": "UdRyKR44dcNI"
      },
      "source": [
        "## Science des données\n",
        "\n",
        "Colab vous permet de tirer pleinement parti des bibliothèques populaires Python pour analyser et visualiser des données. La cellule de code ci-dessous utilise <strong>numpy</strong> pour générer des données aléatoires et <strong>matplotlib</strong> pour les visualiser. Pour modifier le code, cliquez simplement sur la cellule."
      ]
    },
    {
      "cell_type": "code",
      "metadata": {
        "colab": {
          "base_uri": "https://localhost:8080/",
          "height": 281
        },
        "id": "C4HZx7Gndbrh",
        "outputId": "46abc637-6abd-41b2-9bba-80a7ae992e06"
      },
      "source": [
        "import numpy as np\n",
        "from matplotlib import pyplot as plt\n",
        "\n",
        "ys = 200 + np.random.randn(100)\n",
        "x = [x for x in range(len(ys))]\n",
        "\n",
        "plt.plot(x, ys, '-')\n",
        "plt.fill_between(x, ys, 195, where=(ys > 195), facecolor='g', alpha=0.6)\n",
        "\n",
        "plt.title(\"Sample Visualization\")\n",
        "plt.show()"
      ],
      "execution_count": null,
      "outputs": [
        {
          "output_type": "display_data",
          "data": {
            "image/png": "[encoded data removed]",
            "text/plain": [
              "<Figure size 432x288 with 1 Axes>"
            ]
          },
          "metadata": {
            "tags": []
          }
        }
      ]
    },
    {
      "cell_type": "markdown",
      "metadata": {
        "id": "4_kCnsPUqS6o"
      },
      "source": [
        "Vous pouvez importer vos propres données dans les notebooks Colab depuis votre compte Google Drive, y compris depuis des feuilles de calcul, ainsi que depuis GitHub et de nombreuses autres sources. Pour en savoir plus sur l'importation de données et l'utilisation de Colab dans le domaine de la science des données, consultez les liens ci-dessous dans la section <a href=\"#working-with-data\">Utiliser les données</a>."
      ]
    },
    {
      "cell_type": "markdown",
      "metadata": {
        "id": "OwuxHmxllTwN"
      },
      "source": [
        "## Machine learning\n",
        "\n",
        "Colab vous permet d'importer un ensemble de données d'images, d'entraîner un classificateur d'images sur cet ensemble et d'évaluer le modèle, tout cela avec <a href=\"https://colab.research.google.com/github/tensorflow/docs/blob/master/site/en/tutorials/quickstart/beginner.ipynb\">quelques lignes de code</a>. Les notebooks Colab exécutent ce code sur les serveurs cloud de Google. Vous avez donc à votre disposition toute la puissance du matériel Google, y compris les <a href=\"#using-accelerated-hardware\">GPU et TPU</a>, quelle que soit la puissance de votre ordinateur. Vous n'avez besoin que d'un navigateur."
      ]
    },
    {
      "cell_type": "markdown",
      "metadata": {
        "id": "ufxBm1yRnruN"
      },
      "source": [
        "Colab est très largement utilisé par la communauté du machine learning, par exemple dans les applications suivantes :\n",
        "- Premiers pas avec TensorFlow\n",
        "- Développement et entraînement de réseaux de neurones\n",
        "- Expérimentation avec les TPU\n",
        "- Dissémination de la recherche en IA\n",
        "- Création de tutoriels\n",
        "\n",
        "Pour voir comment les notebooks Colab sont utilisés dans des applications de machine learning, reportez-vous aux <a href=\"#machine-learning-examples\">exemples de machine learning</a> ci-dessous."
      ]
    },
    {
      "cell_type": "markdown",
      "metadata": {
        "id": "-Rh3-Vt9Nev9"
      },
      "source": [
        "## Autres ressources\n",
        "\n",
        "### Utiliser les notebooks dans Colab\n",
        "- [Présentation de Colaboratory](/notebooks/basic_features_overview.ipynb)\n",
        "- [Guide de Markdown](/notebooks/markdown_guide.ipynb)\n",
        "- [Importer des bibliothèques et installer des dépendances](/notebooks/snippets/importing_libraries.ipynb)\n",
        "- [Enregistrer et charger des notebooks dans GitHub](https://colab.research.google.com/github/googlecolab/colabtools/blob/master/notebooks/colab-github-demo.ipynb)\n",
        "- [Formulaires interactifs](/notebooks/forms.ipynb)\n",
        "- [Widgets interactifs](/notebooks/widgets.ipynb)\n",
        "- <img src=\"/img/new.png\" height=\"20px\" align=\"left\" hspace=\"4px\" alt=\"New\"></img>\n",
        " [TensorFlow 2 dans Colab](/notebooks/tensorflow_version.ipynb)\n",
        "\n",
        "<a name=\"working-with-data\"></a>\n",
        "### Utiliser les données\n",
        "- [Chargement de données : Drive, Sheets et Google Cloud Storage](/notebooks/io.ipynb)\n",
        "- [Graphiques : visualiser les données](/notebooks/charts.ipynb)\n",
        "- [Premiers pas avec BigQuery](/notebooks/bigquery.ipynb)\n",
        "\n",
        "### Cours d'initiation au Machine Learning\n",
        "Vous trouverez ci-dessous quelques-uns des notebooks de la formation Google en ligne sur le machine learning. Consultez la <a href=\"https://developers.google.com/machine-learning/crash-course/\">formation complète en ligne</a> pour en savoir plus.\n",
        "- [Introduction à pandas](/notebooks/mlcc/intro_to_pandas.ipynb)\n",
        "- [Concepts de TensorFlow](/notebooks/mlcc/tensorflow_programming_concepts.ipynb)\n",
        "- [Premiers pas avec TensorFlow](/notebooks/mlcc/first_steps_with_tensor_flow.ipynb)\n",
        "- [Introduction aux réseaux de neurones](/notebooks/mlcc/intro_to_neural_nets.ipynb)\n",
        "- [Introduction aux données creuses et aux représentations vectorielles continues](/notebooks/mlcc/intro_to_sparse_data_and_embeddings.ipynb)\n",
        "\n",
        "<a name=\"using-accelerated-hardware\"></a>\n",
        "### Utiliser le matériel accéléré\n",
        "- [TensorFlow avec des GPU](/notebooks/gpu.ipynb)\n",
        "- [TensorFlow avec des TPU](/notebooks/tpu.ipynb)"
      ]
    },
    {
      "cell_type": "markdown",
      "metadata": {
        "id": "P-H6Lw1vyNNd"
      },
      "source": [
        "<a name=\"machine-learning-examples\"></a>\n",
        "\n",
        "## Exemples de machine learning\n",
        "\n",
        "Pour voir des exemples complets d'analyses interactives de machine learning rendues possibles par Colaboratory, consultez ces tutoriels utilisant des modèles issus de <a href=\"https://tfhub.dev\">TensorFlow Hub</a>.\n",
        "\n",
        "Voici quelques exemples :\n",
        "\n",
        "- <a href=\"https://tensorflow.org/hub/tutorials/tf2_image_retraining\">Recyclage d'un classificateur d'images</a> : construisez un modèle Keras sur un classificateur d'images pré-entraîné pour faire la distinction entre différentes fleurs.\n",
        "- <a href=\"https://tensorflow.org/hub/tutorials/tf2_text_classification\">Classification de texte</a> : classez des avis sur des films provenant de la base de données IMDB comme <em>positifs</em> ou <em>négatifs</em>.\n",
        "- <a href=\"https://tensorflow.org/hub/tutorials/tf2_arbitrary_image_stylization\">Transfert de style</a> : utilisez le deep learning pour transférer un style d'une image à une autre.\n",
        "- <a href=\"https://tensorflow.org/hub/tutorials/retrieval_with_tf_hub_universal_encoder_qa\">Questions/Réponses sur l'encodeur de phrases universel multilingue</a> : utilisez un modèle de machine learning afin de répondre aux questions issues de l'ensemble de données SQuAD.\n",
        "- <a href=\"https://tensorflow.org/hub/tutorials/tweening_conv3d\">Interpolation vidéo</a> : prédisez ce qui s'est passé entre la première et la dernière image d'une vidéo.\n"
      ]
    },
    {
      "cell_type": "code",
      "metadata": {
        "id": "YOB0H4ssJJQ5"
      },
      "source": [],
      "execution_count": null,
      "outputs": []
    },
    {
      "cell_type": "code",
      "metadata": {
        "colab": {
          "base_uri": "https://localhost:8080/",
          "height": 119
        },
        "id": "W5qDuegpJVnL",
        "outputId": "81896711-1751-42f4-b87f-f9d8c374916c"
      },
      "source": [
        "import pandas as pd\n",
        "import pandas as pd\n",
        "import numpy as np\n",
        "import csv\n",
        "# Load libraries\n",
        "import numpy as np\n",
        "import pandas as pd\n",
        "\n",
        "import warnings\n",
        "warnings.filterwarnings(\"ignore\")\n",
        "from keras.utils import to_categorical\n",
        "from keras.preprocessing.text import Tokenizer\n",
        "from keras.preprocessing import sequence\n",
        "import keras.backend as K\n",
        "from keras.models import Sequential\n",
        "from keras.layers import Dense,Embedding,LSTM\n",
        "from sklearn.metrics import accuracy_score,confusion_matrix,classification_report\n",
        "\n",
        "import numpy as np\n",
        "import pandas as pd\n",
        "import matplotlib.pyplot as plt\n",
        "import seaborn as sns\n",
        "\n",
        "import warnings\n",
        "warnings.filterwarnings(\"ignore\")\n",
        "\n",
        "import re\n",
        "from bs4 import BeautifulSoup\n",
        "from tqdm import tqdm\n",
        "from nltk.stem import WordNetLemmatizer\n",
        "\n",
        "from sklearn.model_selection import train_test_split\n",
        "\n",
        "from keras.preprocessing.text import Tokenizer\n",
        "from keras.preprocessing.sequence import pad_sequences\n",
        "from keras.layers import Dense , Input , LSTM , Embedding, Dropout , Activation, GRU, Flatten\n",
        "from keras.layers import Bidirectional, GlobalMaxPool1D\n",
        "from keras.models import Model, Sequential\n",
        "from keras.layers import Convolution1D\n",
        "from keras import initializers, regularizers, constraints, optimizers, layers\n",
        "import nltk\n",
        "\n",
        "import nltk\n",
        "import string\n",
        "import matplotlib.pyplot as plt\n",
        "import re #regex applies a regular expression to a string and returns the matching substrings.\n",
        "import matplotlib.pyplot as plt\n",
        "import seaborn as sns\n",
        "import nltk\n",
        "from sklearn import feature_extraction, model_selection, naive_bayes, pipeline, manifold, preprocessing\n",
        "import nltk.corpus\n",
        "from nltk.corpus import stopwords\n",
        "from nltk.tokenize import BlanklineTokenizer\n",
        "from nltk.tokenize import TweetTokenizer\n",
        "nltk.download('punkt')\n",
        "nltk.download('wordnet')\n",
        "nltk.download('stopwords')\n",
        "from nltk.stem import WordNetLemmatizer\n",
        "import string\n",
        "from nltk.util import ngrams\n",
        "from sklearn.feature_extraction.text import CountVectorizer\n",
        "from collections import defaultdict\n",
        "from collections import  Counter\n",
        "plt.style.use('ggplot')\n",
        "stop=set(stopwords.words('english'))\n",
        "import re\n",
        "\n",
        "from nltk.tokenize import word_tokenize\n",
        "import gensim\n",
        "from keras.preprocessing.text import Tokenizer\n",
        "from keras.preprocessing.sequence import pad_sequences\n",
        "from tqdm import tqdm\n",
        "from keras.models import Sequential\n",
        "from keras.layers import Embedding,LSTM,Dense,SpatialDropout1D\n",
        "from keras.initializers import Constant\n",
        "from sklearn.model_selection import train_test_split\n",
        "from keras.optimizers import Adam\n",
        "from nltk.stem import PorterStemmer\n",
        "from nltk.tokenize import word_tokenize\n",
        "from wordcloud import WordCloud\n",
        "from sklearn.model_selection import train_test_split\n",
        "from sklearn.feature_extraction.text import TfidfVectorizer\n",
        "import pickle\n",
        "from multiprocessing import Pool\n",
        "import seaborn as sns\n",
        "import random\n",
        "\n",
        "from sklearn.pipeline import Pipeline\n",
        "from sklearn.model_selection import train_test_split\n",
        "from sklearn.metrics import classification_report, confusion_matrix, accuracy_score\n",
        "from sklearn.naive_bayes import MultinomialNB\n",
        "from sklearn.model_selection import KFold, cross_val_score\n",
        "from sklearn.ensemble import RandomForestClassifier\n",
        "from sklearn.feature_extraction.text import CountVectorizer\n",
        "from sklearn.feature_extraction.text import TfidfTransformer\n",
        "from sklearn.model_selection import GridSearchCV\n",
        "from sklearn.externals import joblib\n",
        "from nltk.corpus import stopwords\n",
        "from nltk.tokenize import TweetTokenizer\n",
        "from nltk.stem.wordnet import WordNetLemmatizer\n",
        "\n",
        "import pickle\n",
        "import re\n",
        "from collections import Counter\n",
        "from string import punctuation\n",
        "import tweepy\n",
        "from tweepy import OAuthHandler\n",
        "import json\n",
        "from wordcloud import WordCloud\n",
        "\n",
        "import plotly\n",
        "\n",
        "import plotly.graph_objs as go\n",
        "from plotly.offline import download_plotlyjs, init_notebook_mode, plot, iplot\n",
        "import cufflinks as cf\n",
        "cf.go_offline()\n",
        "\n",
        "from IPython.display import IFrame\n",
        "import folium\n",
        "from folium import plugins\n",
        "from folium.plugins import MarkerCluster, FastMarkerCluster, HeatMapWithTime\n",
        "\n",
        "pd.set_option('display.max_colwidth', -1)\n",
        "plt.style.use('seaborn-white')\n",
        "import numpy as np\n",
        "import seaborn as sns\n",
        "import matplotlib.pyplot as plt\n",
        "from sklearn.feature_extraction.text import CountVectorizer\n",
        "import string\n",
        "import re\n",
        "from sklearn.model_selection import train_test_split # function for splitting data to train and test sets\n",
        "import nltk\n",
        "from nltk.corpus import stopwords\n",
        "from nltk.classify import SklearnClassifier\n",
        "from nltk.stem import SnowballStemmer\n",
        "from nltk.tokenize import TweetTokenizer\n",
        "from wordcloud import WordCloud,STOPWORDS\n",
        "from bs4 import BeautifulSoup\n",
        "import seaborn as sns\n",
        "from sklearn.feature_extraction.text import CountVectorizer, TfidfTransformer\n",
        "from sklearn.linear_model import LogisticRegression\n",
        "from sklearn.svm import SVC\n",
        "from sklearn.model_selection import train_test_split, StratifiedKFold, cross_val_score\n",
        "from sklearn.pipeline import make_pipeline, Pipeline\n",
        "from sklearn.model_selection import GridSearchCV\n",
        "from sklearn.metrics import make_scorer, accuracy_score, f1_score\n",
        "from sklearn.metrics import roc_curve, auc\n",
        "from sklearn.metrics import confusion_matrix, roc_auc_score, recall_score, precision_score\n",
        "\n",
        "# Input data files are available in the \"../input/\" directory.\n",
        "# For example, running this (by clicking run or pressing Shift+Enter) will list the files in the input directory\n",
        "\n",
        "from subprocess import check_output\n",
        "import numpy as np\n",
        "import pandas as pd\n",
        "import os\n",
        "\n",
        "import matplotlib.pyplot as plt\n",
        "%matplotlib inline\n",
        "import warnings\n",
        "warnings.filterwarnings('ignore')\n",
        "import seaborn as sns\n",
        "plt.style.use('ggplot')\n",
        "import re\n",
        "import nltk\n",
        "from nltk.util import ngrams\n",
        "from nltk.corpus import stopwords\n",
        "stop=set(stopwords.words('english'))\n",
        "from sklearn.feature_extraction.text import CountVectorizer, TfidfVectorizer\n",
        "from collections import defaultdict\n",
        "from collections import  Counter\n",
        "from sklearn.model_selection import train_test_split\n",
        "import keras\n",
        "from keras.models import Sequential\n",
        "from keras.initializers import Constant\n",
        "from keras.layers import (LSTM,\n",
        "                          Embedding,\n",
        "                          BatchNormalization,\n",
        "                          Dense,\n",
        "                          TimeDistributed,\n",
        "                          Dropout,\n",
        "                          Bidirectional,\n",
        "                          Flatten,\n",
        "                          GlobalMaxPool1D)\n",
        "from nltk.tokenize import word_tokenize\n",
        "from keras.preprocessing.text import Tokenizer\n",
        "from keras.preprocessing.sequence import pad_sequences\n",
        "from keras.layers.embeddings import Embedding\n",
        "from keras.callbacks import ModelCheckpoint, ReduceLROnPlateau\n",
        "from keras.optimizers import Adam\n",
        "from sklearn.metrics import (\n",
        "    precision_score,\n",
        "    recall_score,\n",
        "    f1_score,\n",
        "    classification_report,\n",
        "    accuracy_score\n",
        ")"
      ],
      "execution_count": null,
      "outputs": [
        {
          "output_type": "stream",
          "text": [
            "[nltk_data] Downloading package punkt to /root/nltk_data...\n",
            "[nltk_data]   Package punkt is already up-to-date!\n",
            "[nltk_data] Downloading package wordnet to /root/nltk_data...\n",
            "[nltk_data]   Package wordnet is already up-to-date!\n",
            "[nltk_data] Downloading package stopwords to /root/nltk_data...\n",
            "[nltk_data]   Package stopwords is already up-to-date!\n"
          ],
          "name": "stdout"
        },
        {
          "output_type": "display_data",
          "data": {
            "text/html": [
              "        <script type=\"text/javascript\">\n",
              "        window.PlotlyConfig = {MathJaxConfig: 'local'};\n",
              "        if (window.MathJax) {MathJax.Hub.Config({SVG: {font: \"STIX-Web\"}});}\n",
              "        if (typeof require !== 'undefined') {\n",
              "        require.undef(\"plotly\");\n",
              "        requirejs.config({\n",
              "            paths: {\n",
              "                'plotly': ['https://cdn.plot.ly/plotly-latest.min']\n",
              "            }\n",
              "        });\n",
              "        require(['plotly'], function(Plotly) {\n",
              "            window._Plotly = Plotly;\n",
              "        });\n",
              "        }\n",
              "        </script>\n",
              "        "
            ]
          },
          "metadata": {
            "tags": []
          }
        }
      ]
    },
    {
      "cell_type": "code",
      "metadata": {
        "id": "8RmD6y2LJp_o"
      },
      "source": [
        "train = pd.read_csv('train.csv',encoding = \"ISO-8859-1\", engine='python', error_bad_lines=False)\n",
        "test = pd.read_csv('test.csv',encoding = \"ISO-8859-1\", engine='python', error_bad_lines=False)"
      ],
      "execution_count": null,
      "outputs": []
    },
    {
      "cell_type": "code",
      "metadata": {
        "colab": {
          "base_uri": "https://localhost:8080/",
          "height": 453
        },
        "id": "svTAtiGCJwCj",
        "outputId": "17474153-0b24-42bc-869c-041f02c0f34c"
      },
      "source": [
        "train"
      ],
      "execution_count": null,
      "outputs": [
        {
          "output_type": "execute_result",
          "data": {
            "text/html": [
              "<div>\n",
              "<style scoped>\n",
              "    .dataframe tbody tr th:only-of-type {\n",
              "        vertical-align: middle;\n",
              "    }\n",
              "\n",
              "    .dataframe tbody tr th {\n",
              "        vertical-align: top;\n",
              "    }\n",
              "\n",
              "    .dataframe thead th {\n",
              "        text-align: right;\n",
              "    }\n",
              "</style>\n",
              "<table border=\"1\" class=\"dataframe\">\n",
              "  <thead>\n",
              "    <tr style=\"text-align: right;\">\n",
              "      <th></th>\n",
              "      <th>ItemID</th>\n",
              "      <th>Sentiment</th>\n",
              "      <th>SentimentText</th>\n",
              "    </tr>\n",
              "  </thead>\n",
              "  <tbody>\n",
              "    <tr>\n",
              "      <th>0</th>\n",
              "      <td>1</td>\n",
              "      <td>0</td>\n",
              "      <td>is so sad for my APL friend.............</td>\n",
              "    </tr>\n",
              "    <tr>\n",
              "      <th>1</th>\n",
              "      <td>2</td>\n",
              "      <td>0</td>\n",
              "      <td>I missed the New Moon trailer...</td>\n",
              "    </tr>\n",
              "    <tr>\n",
              "      <th>2</th>\n",
              "      <td>3</td>\n",
              "      <td>1</td>\n",
              "      <td>omg its already 7:30 :O</td>\n",
              "    </tr>\n",
              "    <tr>\n",
              "      <th>3</th>\n",
              "      <td>4</td>\n",
              "      <td>0</td>\n",
              "      <td>.. Omgaga. Im sooo  im gunna CRy. I've been at this dentist since 11.. I was suposed 2 just get a crown put on (30mins)...</td>\n",
              "    </tr>\n",
              "    <tr>\n",
              "      <th>4</th>\n",
              "      <td>5</td>\n",
              "      <td>0</td>\n",
              "      <td>i think mi bf is cheating on me!!!       T_T</td>\n",
              "    </tr>\n",
              "    <tr>\n",
              "      <th>...</th>\n",
              "      <td>...</td>\n",
              "      <td>...</td>\n",
              "      <td>...</td>\n",
              "    </tr>\n",
              "    <tr>\n",
              "      <th>99984</th>\n",
              "      <td>99996</td>\n",
              "      <td>0</td>\n",
              "      <td>@Cupcake  seems like a repeating problem   hope you're able to find something.</td>\n",
              "    </tr>\n",
              "    <tr>\n",
              "      <th>99985</th>\n",
              "      <td>99997</td>\n",
              "      <td>1</td>\n",
              "      <td>@cupcake__ arrrr we both replied to each other over different tweets at the same time  , i'll see you then, Duno where the hell Kateyy is!</td>\n",
              "    </tr>\n",
              "    <tr>\n",
              "      <th>99986</th>\n",
              "      <td>99998</td>\n",
              "      <td>0</td>\n",
              "      <td>@CuPcAkE_2120 ya i thought so</td>\n",
              "    </tr>\n",
              "    <tr>\n",
              "      <th>99987</th>\n",
              "      <td>99999</td>\n",
              "      <td>1</td>\n",
              "      <td>@Cupcake_Dollie Yes. Yes. I'm glad you had more fun with me.</td>\n",
              "    </tr>\n",
              "    <tr>\n",
              "      <th>99988</th>\n",
              "      <td>100000</td>\n",
              "      <td>1</td>\n",
              "      <td>@cupcake_kayla haha yes you do</td>\n",
              "    </tr>\n",
              "  </tbody>\n",
              "</table>\n",
              "<p>99989 rows × 3 columns</p>\n",
              "</div>"
            ],
            "text/plain": [
              "       ItemID  ...                                                                                                                               SentimentText\n",
              "0      1       ...                       is so sad for my APL friend.............                                                                             \n",
              "1      2       ...                     I missed the New Moon trailer...                                                                                       \n",
              "2      3       ...                omg its already 7:30 :O                                                                                                     \n",
              "3      4       ...            .. Omgaga. Im sooo  im gunna CRy. I've been at this dentist since 11.. I was suposed 2 just get a crown put on (30mins)...      \n",
              "4      5       ...           i think mi bf is cheating on me!!!       T_T                                                                                     \n",
              "...   ..       ...                                                    ...                                                                                     \n",
              "99984  99996   ...  @Cupcake  seems like a repeating problem   hope you're able to find something.                                                            \n",
              "99985  99997   ...  @cupcake__ arrrr we both replied to each other over different tweets at the same time  , i'll see you then, Duno where the hell Kateyy is!\n",
              "99986  99998   ...  @CuPcAkE_2120 ya i thought so                                                                                                             \n",
              "99987  99999   ...  @Cupcake_Dollie Yes. Yes. I'm glad you had more fun with me.                                                                              \n",
              "99988  100000  ...  @cupcake_kayla haha yes you do                                                                                                            \n",
              "\n",
              "[99989 rows x 3 columns]"
            ]
          },
          "metadata": {
            "tags": []
          },
          "execution_count": 23
        }
      ]
    },
    {
      "cell_type": "code",
      "metadata": {
        "colab": {
          "base_uri": "https://localhost:8080/"
        },
        "id": "iCmSAR5nN2aP",
        "outputId": "f2d272ab-6507-4618-dc5f-64710aaf75b0"
      },
      "source": [
        "print('Number of phrases in train: {}. Number of sentences in train: {}.'.format(train.shape[0], len(train.ItemID.unique())))\n",
        "print('Number of phrases in test: {}. Number of sentences in test: {}.'.format(test.shape[0], len(test.ItemID.unique())))"
      ],
      "execution_count": null,
      "outputs": [
        {
          "output_type": "stream",
          "text": [
            "Number of phrases in train: 99989. Number of sentences in train: 99989.\n",
            "Number of phrases in test: 299989. Number of sentences in test: 299989.\n"
          ],
          "name": "stdout"
        }
      ]
    },
    {
      "cell_type": "code",
      "metadata": {
        "id": "PQHdShVBN2JA"
      },
      "source": [],
      "execution_count": null,
      "outputs": []
    },
    {
      "cell_type": "code",
      "metadata": {
        "colab": {
          "base_uri": "https://localhost:8080/"
        },
        "id": "zrsQ1TmiKMHg",
        "outputId": "76b08c48-1ada-4193-ff6b-2d6df53c987b"
      },
      "source": [
        "train.shape"
      ],
      "execution_count": null,
      "outputs": [
        {
          "output_type": "execute_result",
          "data": {
            "text/plain": [
              "(99989, 3)"
            ]
          },
          "metadata": {
            "tags": []
          },
          "execution_count": 24
        }
      ]
    },
    {
      "cell_type": "code",
      "metadata": {
        "colab": {
          "base_uri": "https://localhost:8080/"
        },
        "id": "W0McgXEmJ1NP",
        "outputId": "2f9ea816-6cc7-4bc4-e419-29e9b1f5f1f2"
      },
      "source": [
        "print(train.columns.tolist())"
      ],
      "execution_count": null,
      "outputs": [
        {
          "output_type": "stream",
          "text": [
            "['ItemID', 'Sentiment', 'SentimentText']\n"
          ],
          "name": "stdout"
        }
      ]
    },
    {
      "cell_type": "code",
      "metadata": {
        "colab": {
          "base_uri": "https://localhost:8080/"
        },
        "id": "Mxks4uxhJ1_9",
        "outputId": "a85579fb-3f8e-4bd2-a90b-658254ee4680"
      },
      "source": [
        "train['SentimentText']"
      ],
      "execution_count": null,
      "outputs": [
        {
          "output_type": "execute_result",
          "data": {
            "text/plain": [
              "0                             is so sad for my APL friend.............                                                                             \n",
              "1                           I missed the New Moon trailer...                                                                                       \n",
              "2                      omg its already 7:30 :O                                                                                                     \n",
              "3                  .. Omgaga. Im sooo  im gunna CRy. I've been at this dentist since 11.. I was suposed 2 just get a crown put on (30mins)...      \n",
              "4                 i think mi bf is cheating on me!!!       T_T                                                                                     \n",
              "                                 ...                                                                                                               \n",
              "99984    @Cupcake  seems like a repeating problem   hope you're able to find something.                                                            \n",
              "99985    @cupcake__ arrrr we both replied to each other over different tweets at the same time  , i'll see you then, Duno where the hell Kateyy is!\n",
              "99986    @CuPcAkE_2120 ya i thought so                                                                                                             \n",
              "99987    @Cupcake_Dollie Yes. Yes. I'm glad you had more fun with me.                                                                              \n",
              "99988    @cupcake_kayla haha yes you do                                                                                                            \n",
              "Name: SentimentText, Length: 99989, dtype: object"
            ]
          },
          "metadata": {
            "tags": []
          },
          "execution_count": 26
        }
      ]
    },
    {
      "cell_type": "code",
      "metadata": {
        "colab": {
          "base_uri": "https://localhost:8080/",
          "height": 436
        },
        "id": "MEt8mDdPJ9hX",
        "outputId": "bdf0872e-923c-4c75-d5a1-de137366c891"
      },
      "source": [
        "test"
      ],
      "execution_count": null,
      "outputs": [
        {
          "output_type": "execute_result",
          "data": {
            "text/html": [
              "<div>\n",
              "<style scoped>\n",
              "    .dataframe tbody tr th:only-of-type {\n",
              "        vertical-align: middle;\n",
              "    }\n",
              "\n",
              "    .dataframe tbody tr th {\n",
              "        vertical-align: top;\n",
              "    }\n",
              "\n",
              "    .dataframe thead th {\n",
              "        text-align: right;\n",
              "    }\n",
              "</style>\n",
              "<table border=\"1\" class=\"dataframe\">\n",
              "  <thead>\n",
              "    <tr style=\"text-align: right;\">\n",
              "      <th></th>\n",
              "      <th>ItemID</th>\n",
              "      <th>SentimentText</th>\n",
              "    </tr>\n",
              "  </thead>\n",
              "  <tbody>\n",
              "    <tr>\n",
              "      <th>0</th>\n",
              "      <td>1</td>\n",
              "      <td>is so sad for my APL friend.............</td>\n",
              "    </tr>\n",
              "    <tr>\n",
              "      <th>1</th>\n",
              "      <td>2</td>\n",
              "      <td>I missed the New Moon trailer...</td>\n",
              "    </tr>\n",
              "    <tr>\n",
              "      <th>2</th>\n",
              "      <td>3</td>\n",
              "      <td>omg its already 7:30 :O</td>\n",
              "    </tr>\n",
              "    <tr>\n",
              "      <th>3</th>\n",
              "      <td>4</td>\n",
              "      <td>.. Omgaga. Im sooo  im gunna CRy. I've been at this dentist since 11.. I was suposed 2 just get a crown put on (30mins)...</td>\n",
              "    </tr>\n",
              "    <tr>\n",
              "      <th>4</th>\n",
              "      <td>5</td>\n",
              "      <td>i think mi bf is cheating on me!!!       T_T</td>\n",
              "    </tr>\n",
              "    <tr>\n",
              "      <th>...</th>\n",
              "      <td>...</td>\n",
              "      <td>...</td>\n",
              "    </tr>\n",
              "    <tr>\n",
              "      <th>299984</th>\n",
              "      <td>299996</td>\n",
              "      <td>@martine2323 'Morning, Petal - work brought me here (banking IT). First Holland, then here.  And I just stayed... and stayed...</td>\n",
              "    </tr>\n",
              "    <tr>\n",
              "      <th>299985</th>\n",
              "      <td>299997</td>\n",
              "      <td>@martinetrene Hello,little bird!  i finally started on Rick's movie this morning &amp;amp; got to the part where you are about to save the day! &amp;lt;3</td>\n",
              "    </tr>\n",
              "    <tr>\n",
              "      <th>299986</th>\n",
              "      <td>299998</td>\n",
              "      <td>@MartinezMayra I got u at work when I go buy one u know ima get u one</td>\n",
              "    </tr>\n",
              "    <tr>\n",
              "      <th>299987</th>\n",
              "      <td>299999</td>\n",
              "      <td>@martinfaux He certainly gives good interview</td>\n",
              "    </tr>\n",
              "    <tr>\n",
              "      <th>299988</th>\n",
              "      <td>300000</td>\n",
              "      <td>@martinfaux we've the feedback about our browser compatibility story in v3 loud and clear</td>\n",
              "    </tr>\n",
              "  </tbody>\n",
              "</table>\n",
              "<p>299989 rows × 2 columns</p>\n",
              "</div>"
            ],
            "text/plain": [
              "        ItemID                                                                                                                                      SentimentText\n",
              "0       1                            is so sad for my APL friend.............                                                                                    \n",
              "1       2                          I missed the New Moon trailer...                                                                                              \n",
              "2       3                     omg its already 7:30 :O                                                                                                            \n",
              "3       4                 .. Omgaga. Im sooo  im gunna CRy. I've been at this dentist since 11.. I was suposed 2 just get a crown put on (30mins)...             \n",
              "4       5                i think mi bf is cheating on me!!!       T_T                                                                                            \n",
              "...    ..                                                         ...                                                                                            \n",
              "299984  299996  @martine2323 'Morning, Petal - work brought me here (banking IT). First Holland, then here.  And I just stayed... and stayed...                  \n",
              "299985  299997  @martinetrene Hello,little bird!  i finally started on Rick's movie this morning &amp; got to the part where you are about to save the day! &lt;3\n",
              "299986  299998  @MartinezMayra I got u at work when I go buy one u know ima get u one                                                                            \n",
              "299987  299999  @martinfaux He certainly gives good interview                                                                                                    \n",
              "299988  300000  @martinfaux we've the feedback about our browser compatibility story in v3 loud and clear                                                        \n",
              "\n",
              "[299989 rows x 2 columns]"
            ]
          },
          "metadata": {
            "tags": []
          },
          "execution_count": 27
        }
      ]
    },
    {
      "cell_type": "code",
      "metadata": {
        "colab": {
          "base_uri": "https://localhost:8080/"
        },
        "id": "NWsXTyrMKjqJ",
        "outputId": "bbd11916-3bbe-4763-b68a-70e3fad9a5ad"
      },
      "source": [
        "positives = train['Sentiment'][train.Sentiment== 0]\n",
        "negatives = train['Sentiment'][train.Sentiment == 1]\n",
        "\n",
        "print('number of positve tagged sentences is:  {}'.format(len(positives)))\n",
        "print('number of negative tagged sentences is: {}'.format(len(negatives)))\n",
        "print('total length of the data is:            {}'.format(train.shape[0]))"
      ],
      "execution_count": null,
      "outputs": [
        {
          "output_type": "stream",
          "text": [
            "number of positve tagged sentences is:  43532\n",
            "number of negative tagged sentences is: 56457\n",
            "total length of the data is:            99989\n"
          ],
          "name": "stdout"
        }
      ]
    },
    {
      "cell_type": "code",
      "metadata": {
        "colab": {
          "base_uri": "https://localhost:8080/",
          "height": 393
        },
        "id": "bFsLrn4OMI9z",
        "outputId": "5c0930b5-5f5d-4559-f4d7-0d633b6b6e48"
      },
      "source": [
        "def word_count(sentence):\n",
        "    return len(sentence.split())\n",
        "\n",
        "train['word count'] = train['SentimentText'].apply(word_count)\n",
        "train.head(10)"
      ],
      "execution_count": null,
      "outputs": [
        {
          "output_type": "execute_result",
          "data": {
            "text/html": [
              "<div>\n",
              "<style scoped>\n",
              "    .dataframe tbody tr th:only-of-type {\n",
              "        vertical-align: middle;\n",
              "    }\n",
              "\n",
              "    .dataframe tbody tr th {\n",
              "        vertical-align: top;\n",
              "    }\n",
              "\n",
              "    .dataframe thead th {\n",
              "        text-align: right;\n",
              "    }\n",
              "</style>\n",
              "<table border=\"1\" class=\"dataframe\">\n",
              "  <thead>\n",
              "    <tr style=\"text-align: right;\">\n",
              "      <th></th>\n",
              "      <th>ItemID</th>\n",
              "      <th>Sentiment</th>\n",
              "      <th>SentimentText</th>\n",
              "      <th>word count</th>\n",
              "    </tr>\n",
              "  </thead>\n",
              "  <tbody>\n",
              "    <tr>\n",
              "      <th>0</th>\n",
              "      <td>1</td>\n",
              "      <td>0</td>\n",
              "      <td>is so sad for my APL friend.............</td>\n",
              "      <td>7</td>\n",
              "    </tr>\n",
              "    <tr>\n",
              "      <th>1</th>\n",
              "      <td>2</td>\n",
              "      <td>0</td>\n",
              "      <td>I missed the New Moon trailer...</td>\n",
              "      <td>6</td>\n",
              "    </tr>\n",
              "    <tr>\n",
              "      <th>2</th>\n",
              "      <td>3</td>\n",
              "      <td>1</td>\n",
              "      <td>omg its already 7:30 :O</td>\n",
              "      <td>5</td>\n",
              "    </tr>\n",
              "    <tr>\n",
              "      <th>3</th>\n",
              "      <td>4</td>\n",
              "      <td>0</td>\n",
              "      <td>.. Omgaga. Im sooo  im gunna CRy. I've been at this dentist since 11.. I was suposed 2 just get a crown put on (30mins)...</td>\n",
              "      <td>25</td>\n",
              "    </tr>\n",
              "    <tr>\n",
              "      <th>4</th>\n",
              "      <td>5</td>\n",
              "      <td>0</td>\n",
              "      <td>i think mi bf is cheating on me!!!       T_T</td>\n",
              "      <td>9</td>\n",
              "    </tr>\n",
              "    <tr>\n",
              "      <th>5</th>\n",
              "      <td>6</td>\n",
              "      <td>0</td>\n",
              "      <td>or i just worry too much?</td>\n",
              "      <td>6</td>\n",
              "    </tr>\n",
              "    <tr>\n",
              "      <th>6</th>\n",
              "      <td>7</td>\n",
              "      <td>1</td>\n",
              "      <td>Juuuuuuuuuuuuuuuuussssst Chillin!!</td>\n",
              "      <td>2</td>\n",
              "    </tr>\n",
              "    <tr>\n",
              "      <th>7</th>\n",
              "      <td>8</td>\n",
              "      <td>0</td>\n",
              "      <td>Sunny Again        Work Tomorrow  :-|       TV Tonight</td>\n",
              "      <td>7</td>\n",
              "    </tr>\n",
              "    <tr>\n",
              "      <th>8</th>\n",
              "      <td>9</td>\n",
              "      <td>1</td>\n",
              "      <td>handed in my uniform today . i miss you already</td>\n",
              "      <td>10</td>\n",
              "    </tr>\n",
              "    <tr>\n",
              "      <th>9</th>\n",
              "      <td>10</td>\n",
              "      <td>1</td>\n",
              "      <td>hmmmm.... i wonder how she my number @-)</td>\n",
              "      <td>8</td>\n",
              "    </tr>\n",
              "  </tbody>\n",
              "</table>\n",
              "</div>"
            ],
            "text/plain": [
              "   ItemID  ...  word count\n",
              "0  1       ...  7         \n",
              "1  2       ...  6         \n",
              "2  3       ...  5         \n",
              "3  4       ...  25        \n",
              "4  5       ...  9         \n",
              "5  6       ...  6         \n",
              "6  7       ...  2         \n",
              "7  8       ...  7         \n",
              "8  9       ...  10        \n",
              "9  10      ...  8         \n",
              "\n",
              "[10 rows x 4 columns]"
            ]
          },
          "metadata": {
            "tags": []
          },
          "execution_count": 29
        }
      ]
    },
    {
      "cell_type": "code",
      "metadata": {
        "colab": {
          "base_uri": "https://localhost:8080/",
          "height": 404
        },
        "id": "E1Ej6zCmMjXa",
        "outputId": "14b704ad-6de1-4856-b7dd-b109fc9b6fd6"
      },
      "source": [
        "x = train['word count'][train.Sentiment == 1]\n",
        "y = train['word count'][train.Sentiment == 0]\n",
        "plt.figure(figsize=(12,6))\n",
        "plt.xlim(0,45)\n",
        "plt.xlabel('word count')\n",
        "plt.ylabel('frequency')\n",
        "g = plt.hist([x, y], color=['y','g'], alpha=0.5, label=['Positive','negative'])\n",
        "plt.legend(loc='upper right')"
      ],
      "execution_count": null,
      "outputs": [
        {
          "output_type": "execute_result",
          "data": {
            "text/plain": [
              "<matplotlib.legend.Legend at 0x7fa6a15b20b8>"
            ]
          },
          "metadata": {
            "tags": []
          },
          "execution_count": 30
        },
        {
          "output_type": "display_data",
          "data": {
            "image/png": "[encoded data removed]",
            "text/plain": [
              "<Figure size 864x432 with 1 Axes>"
            ]
          },
          "metadata": {
            "tags": []
          }
        }
      ]
    },
    {
      "cell_type": "code",
      "metadata": {
        "id": "erZ35WK0MujY"
      },
      "source": [
        "def length(text):\n",
        "    '''a function which returns the length of text'''\n",
        "    return len(text)"
      ],
      "execution_count": null,
      "outputs": []
    },
    {
      "cell_type": "code",
      "metadata": {
        "id": "Ai2Ec1AMMyhW"
      },
      "source": [
        "train['length'] = train['SentimentText'].apply(length)"
      ],
      "execution_count": null,
      "outputs": []
    },
    {
      "cell_type": "code",
      "metadata": {
        "colab": {
          "base_uri": "https://localhost:8080/",
          "height": 470
        },
        "id": "7Jwb0Kv6MzY5",
        "outputId": "43c6b3d1-5fd1-4301-fda3-26143a5c2f59"
      },
      "source": [
        "train"
      ],
      "execution_count": null,
      "outputs": [
        {
          "output_type": "execute_result",
          "data": {
            "text/html": [
              "<div>\n",
              "<style scoped>\n",
              "    .dataframe tbody tr th:only-of-type {\n",
              "        vertical-align: middle;\n",
              "    }\n",
              "\n",
              "    .dataframe tbody tr th {\n",
              "        vertical-align: top;\n",
              "    }\n",
              "\n",
              "    .dataframe thead th {\n",
              "        text-align: right;\n",
              "    }\n",
              "</style>\n",
              "<table border=\"1\" class=\"dataframe\">\n",
              "  <thead>\n",
              "    <tr style=\"text-align: right;\">\n",
              "      <th></th>\n",
              "      <th>ItemID</th>\n",
              "      <th>Sentiment</th>\n",
              "      <th>SentimentText</th>\n",
              "      <th>word count</th>\n",
              "      <th>length</th>\n",
              "    </tr>\n",
              "  </thead>\n",
              "  <tbody>\n",
              "    <tr>\n",
              "      <th>0</th>\n",
              "      <td>1</td>\n",
              "      <td>0</td>\n",
              "      <td>is so sad for my APL friend.............</td>\n",
              "      <td>7</td>\n",
              "      <td>61</td>\n",
              "    </tr>\n",
              "    <tr>\n",
              "      <th>1</th>\n",
              "      <td>2</td>\n",
              "      <td>0</td>\n",
              "      <td>I missed the New Moon trailer...</td>\n",
              "      <td>6</td>\n",
              "      <td>51</td>\n",
              "    </tr>\n",
              "    <tr>\n",
              "      <th>2</th>\n",
              "      <td>3</td>\n",
              "      <td>1</td>\n",
              "      <td>omg its already 7:30 :O</td>\n",
              "      <td>5</td>\n",
              "      <td>37</td>\n",
              "    </tr>\n",
              "    <tr>\n",
              "      <th>3</th>\n",
              "      <td>4</td>\n",
              "      <td>0</td>\n",
              "      <td>.. Omgaga. Im sooo  im gunna CRy. I've been at this dentist since 11.. I was suposed 2 just get a crown put on (30mins)...</td>\n",
              "      <td>25</td>\n",
              "      <td>132</td>\n",
              "    </tr>\n",
              "    <tr>\n",
              "      <th>4</th>\n",
              "      <td>5</td>\n",
              "      <td>0</td>\n",
              "      <td>i think mi bf is cheating on me!!!       T_T</td>\n",
              "      <td>9</td>\n",
              "      <td>53</td>\n",
              "    </tr>\n",
              "    <tr>\n",
              "      <th>...</th>\n",
              "      <td>...</td>\n",
              "      <td>...</td>\n",
              "      <td>...</td>\n",
              "      <td>...</td>\n",
              "      <td>...</td>\n",
              "    </tr>\n",
              "    <tr>\n",
              "      <th>99984</th>\n",
              "      <td>99996</td>\n",
              "      <td>0</td>\n",
              "      <td>@Cupcake  seems like a repeating problem   hope you're able to find something.</td>\n",
              "      <td>12</td>\n",
              "      <td>78</td>\n",
              "    </tr>\n",
              "    <tr>\n",
              "      <th>99985</th>\n",
              "      <td>99997</td>\n",
              "      <td>1</td>\n",
              "      <td>@cupcake__ arrrr we both replied to each other over different tweets at the same time  , i'll see you then, Duno where the hell Kateyy is!</td>\n",
              "      <td>26</td>\n",
              "      <td>138</td>\n",
              "    </tr>\n",
              "    <tr>\n",
              "      <th>99986</th>\n",
              "      <td>99998</td>\n",
              "      <td>0</td>\n",
              "      <td>@CuPcAkE_2120 ya i thought so</td>\n",
              "      <td>5</td>\n",
              "      <td>30</td>\n",
              "    </tr>\n",
              "    <tr>\n",
              "      <th>99987</th>\n",
              "      <td>99999</td>\n",
              "      <td>1</td>\n",
              "      <td>@Cupcake_Dollie Yes. Yes. I'm glad you had more fun with me.</td>\n",
              "      <td>11</td>\n",
              "      <td>61</td>\n",
              "    </tr>\n",
              "    <tr>\n",
              "      <th>99988</th>\n",
              "      <td>100000</td>\n",
              "      <td>1</td>\n",
              "      <td>@cupcake_kayla haha yes you do</td>\n",
              "      <td>5</td>\n",
              "      <td>31</td>\n",
              "    </tr>\n",
              "  </tbody>\n",
              "</table>\n",
              "<p>99989 rows × 5 columns</p>\n",
              "</div>"
            ],
            "text/plain": [
              "       ItemID  Sentiment  ... word count  length\n",
              "0      1       0          ...  7          61    \n",
              "1      2       0          ...  6          51    \n",
              "2      3       1          ...  5          37    \n",
              "3      4       0          ...  25         132   \n",
              "4      5       0          ...  9          53    \n",
              "...   ..      ..          ... ..          ..    \n",
              "99984  99996   0          ...  12         78    \n",
              "99985  99997   1          ...  26         138   \n",
              "99986  99998   0          ...  5          30    \n",
              "99987  99999   1          ...  11         61    \n",
              "99988  100000  1          ...  5          31    \n",
              "\n",
              "[99989 rows x 5 columns]"
            ]
          },
          "metadata": {
            "tags": []
          },
          "execution_count": 34
        }
      ]
    },
    {
      "cell_type": "code",
      "metadata": {
        "colab": {
          "base_uri": "https://localhost:8080/"
        },
        "id": "o17hiEy3NTxd",
        "outputId": "0b804362-58ef-41b0-9bfc-371a373caa01"
      },
      "source": [
        "# get most common words in training dataset\n",
        "all_words = [] #all_words is an empty list\n",
        "for line in list(train['SentimentText']):\n",
        "    words = line.split()\n",
        "    for word in words:\n",
        "        all_words.append(word.lower())\n",
        "\n",
        "\n",
        "Counter(all_words).most_common(50)"
      ],
      "execution_count": null,
      "outputs": [
        {
          "output_type": "execute_result",
          "data": {
            "text/plain": [
              "[('i', 48880),\n",
              " ('the', 29629),\n",
              " ('to', 29177),\n",
              " ('you', 23456),\n",
              " ('a', 21908),\n",
              " ('and', 15826),\n",
              " ('it', 14154),\n",
              " ('my', 13598),\n",
              " ('for', 12378),\n",
              " ('is', 11618),\n",
              " ('in', 11497),\n",
              " ('of', 10519),\n",
              " ('that', 10051),\n",
              " ('have', 9794),\n",
              " ('on', 9228),\n",
              " ('me', 8718),\n",
              " ('so', 8601),\n",
              " ('but', 8489),\n",
              " (\"i'm\", 8167),\n",
              " ('be', 7248),\n",
              " ('was', 7128),\n",
              " ('not', 6749),\n",
              " ('just', 6649),\n",
              " ('your', 6416),\n",
              " ('are', 5901),\n",
              " ('with', 5460),\n",
              " ('like', 5247),\n",
              " ('get', 5228),\n",
              " ('at', 5202),\n",
              " ('-', 4922),\n",
              " ('good', 4918),\n",
              " ('u', 4638),\n",
              " ('no', 4439),\n",
              " ('this', 4353),\n",
              " (\"it's\", 4302),\n",
              " ('all', 4282),\n",
              " ('love', 4146),\n",
              " ('we', 4108),\n",
              " ('do', 4101),\n",
              " ('up', 3773),\n",
              " ('will', 3588),\n",
              " ('what', 3552),\n",
              " ('know', 3538),\n",
              " ('lol', 3499),\n",
              " (\"don't\", 3485),\n",
              " ('can', 3431),\n",
              " ('out', 3417),\n",
              " ('if', 3359),\n",
              " ('about', 3217),\n",
              " ('go', 3198)]"
            ]
          },
          "metadata": {
            "tags": []
          },
          "execution_count": 35
        }
      ]
    },
    {
      "cell_type": "code",
      "metadata": {
        "colab": {
          "base_uri": "https://localhost:8080/",
          "height": 364
        },
        "id": "IPV5zfzTNcox",
        "outputId": "42ca1301-7fc1-49a0-f106-f995f95fc948"
      },
      "source": [
        "plt.figure(figsize=(12,5))\n",
        "plt.title('Top 10 most common words')\n",
        "plt.xticks(fontsize=15, rotation=90)\n",
        "fd = nltk.FreqDist(all_words)\n",
        "fd.plot(10,cumulative=False)\n",
        "\n"
      ],
      "execution_count": null,
      "outputs": [
        {
          "output_type": "display_data",
          "data": {
            "image/png": "[encoded data removed]",
            "text/plain": [
              "<Figure size 864x360 with 1 Axes>"
            ]
          },
          "metadata": {
            "tags": []
          }
        }
      ]
    },
    {
      "cell_type": "code",
      "metadata": {
        "colab": {
          "base_uri": "https://localhost:8080/"
        },
        "id": "_vtfk4M1OB6g",
        "outputId": "d5e6b571-8ada-4058-ee64-c0e42d78a507"
      },
      "source": [
        "train['Sentiment'].value_counts()"
      ],
      "execution_count": null,
      "outputs": [
        {
          "output_type": "execute_result",
          "data": {
            "text/plain": [
              "1    56457\n",
              "0    43532\n",
              "Name: Sentiment, dtype: int64"
            ]
          },
          "metadata": {
            "tags": []
          },
          "execution_count": 39
        }
      ]
    },
    {
      "cell_type": "code",
      "metadata": {
        "colab": {
          "base_uri": "https://localhost:8080/",
          "height": 275
        },
        "id": "l90aqcMNOE7E",
        "outputId": "3b2f65d1-f50a-471e-f726-567889408402"
      },
      "source": [
        "fig, axes = plt.subplots(ncols=2, figsize=(17, 4), dpi=100)\n",
        "plt.tight_layout()\n",
        "\n",
        "train.groupby('Sentiment').count()['ItemID'].plot(kind='pie', ax=axes[0], labels=['NEGATIVE', 'POSITIVE'])\n",
        "sns.countplot(x=train['Sentiment'], hue=train['Sentiment'], ax=axes[1])\n",
        "\n",
        "axes[0].set_ylabel('')\n",
        "axes[1].set_ylabel('')\n",
        "axes[1].set_xticklabels(['Negative', 'Positive'])\n",
        "axes[0].tick_params(axis='x', labelsize=15)\n",
        "axes[0].tick_params(axis='y', labelsize=15)\n",
        "axes[1].tick_params(axis='x', labelsize=15)\n",
        "axes[1].tick_params(axis='y', labelsize=15)\n",
        "\n",
        "axes[0].set_title('Target Distribution in Training Set', fontsize=13)\n",
        "axes[1].set_title('Target Count in Training Set', fontsize=13)\n",
        "\n",
        "plt.show()"
      ],
      "execution_count": null,
      "outputs": [
        {
          "output_type": "display_data",
          "data": {
            "image/png": "[encoded data removed]",
            "text/plain": [
              "<Figure size 1700x400 with 2 Axes>"
            ]
          },
          "metadata": {
            "tags": []
          }
        }
      ]
    },
    {
      "cell_type": "code",
      "metadata": {
        "id": "cs5UyIQfOu2w"
      },
      "source": [
        "# Import BeautifulSoup into your workspace\n",
        "from bs4 import BeautifulSoup\n",
        "\n",
        "# Initialize the BeautifulSoup\n",
        "example1 = BeautifulSoup(train[\"SentimentText\"][0])\n",
        "\n"
      ],
      "execution_count": null,
      "outputs": []
    },
    {
      "cell_type": "code",
      "metadata": {
        "colab": {
          "base_uri": "https://localhost:8080/"
        },
        "id": "9ZacGYdrOzeX",
        "outputId": "281cae31-a058-499e-df18-20e9c41a4f6c"
      },
      "source": [
        "\n",
        "# comparison\n",
        "print (train[\"SentimentText\"][0])\n",
        "print  (example1.get_text())"
      ],
      "execution_count": null,
      "outputs": [
        {
          "output_type": "stream",
          "text": [
            "                     is so sad for my APL friend.............\n",
            "is so sad for my APL friend.............\n"
          ],
          "name": "stdout"
        }
      ]
    },
    {
      "cell_type": "code",
      "metadata": {
        "colab": {
          "base_uri": "https://localhost:8080/"
        },
        "id": "_aY1CG0kO66d",
        "outputId": "fa302556-9bf2-4211-e201-ed68be4590bc"
      },
      "source": [
        "import re\n",
        "# Use regular expressions to do a find-and-replace\n",
        "letters_only = re.sub(\"[^a-zA-Z]\",           # The pattern to search for\n",
        "                      \" \",                   # The pattern to replace it with\n",
        "                      example1.get_text() )  # The text to search\n",
        "print (letters_only)"
      ],
      "execution_count": null,
      "outputs": [
        {
          "output_type": "stream",
          "text": [
            "is so sad for my APL friend             \n"
          ],
          "name": "stdout"
        }
      ]
    },
    {
      "cell_type": "code",
      "metadata": {
        "colab": {
          "base_uri": "https://localhost:8080/",
          "height": 35
        },
        "id": "omlw2yn5O9QS",
        "outputId": "272d0c4b-0ded-4d4e-c9ad-9e917e2bcbbe"
      },
      "source": [
        "lower_case = letters_only.lower()        # Convert to lower case\n",
        "lower_case"
      ],
      "execution_count": null,
      "outputs": [
        {
          "output_type": "execute_result",
          "data": {
            "application/vnd.google.colaboratory.intrinsic+json": {
              "type": "string"
            },
            "text/plain": [
              "'is so sad for my apl friend             '"
            ]
          },
          "metadata": {
            "tags": []
          },
          "execution_count": 45
        }
      ]
    },
    {
      "cell_type": "code",
      "metadata": {
        "colab": {
          "base_uri": "https://localhost:8080/"
        },
        "id": "v6obvHf8PGlA",
        "outputId": "3d0c9927-3aae-4f5a-cbf6-f33eb4effd19"
      },
      "source": [
        "words = lower_case.split()\n",
        "words              # Split into words"
      ],
      "execution_count": null,
      "outputs": [
        {
          "output_type": "execute_result",
          "data": {
            "text/plain": [
              "['is', 'so', 'sad', 'for', 'my', 'apl', 'friend']"
            ]
          },
          "metadata": {
            "tags": []
          },
          "execution_count": 46
        }
      ]
    },
    {
      "cell_type": "code",
      "metadata": {
        "id": "J-D208CkPbbm"
      },
      "source": [
        "def pre( raw ):\n",
        "    # Function to convert a raw to a string of words\n",
        "    # The input is a single string (a raw  review), and\n",
        "    # the output is a single string (a preprocessed  review)\n",
        "    #\n",
        "    # 1. Remove HTML\n",
        "    text = BeautifulSoup(raw).get_text()\n",
        "    #\n",
        "    # 2. Remove non-letters\n",
        "    letters_only = re.sub(\"[^a-zA-Z]\", \" \", text)\n",
        "\n",
        "    # 3. Convert to lower case, split into individual words\n",
        "    words = letters_only.lower().split()\n",
        "    #\n",
        "    # 4. In Python, searching a set is much faster than searching\n",
        "    #   a list, so convert the stop words to a set\n",
        "\n",
        "    stopwords = nltk.corpus.stopwords.words('english')\n",
        "    #\n",
        "    # 5. Remove stop words\n",
        "    meaningful_words = [w for w in words if not w in stopwords]\n",
        "    #\n",
        "    # 6. Join the words back into one string separated by space,\n",
        "    # and return the result.\n",
        "    return( \" \".join( meaningful_words ))"
      ],
      "execution_count": null,
      "outputs": []
    },
    {
      "cell_type": "code",
      "metadata": {
        "id": "aDHiHQ3BQCqx"
      },
      "source": [
        "def decontract(text):\n",
        "    text = re.sub(r\"won\\'t\", \"will not\", text)\n",
        "    text = re.sub(r\"can\\'t\", \"can not\", text)\n",
        "    text = re.sub(r\"n\\'t\", \" not\", text)\n",
        "    text = re.sub(r\"\\'re\", \" are\", text)\n",
        "    text = re.sub(r\"\\'s\", \" is\", text)\n",
        "    text = re.sub(r\"\\'d\", \" would\", text)\n",
        "    text = re.sub(r\"\\'ll\", \" will\", text)\n",
        "    text = re.sub(r\"\\'t\", \" not\", text)\n",
        "    text = re.sub(r\"\\'ve\", \" have\", text)\n",
        "    text = re.sub(r\"\\'m\", \" am\", text)\n",
        "    return text"
      ],
      "execution_count": null,
      "outputs": []
    },
    {
      "cell_type": "code",
      "metadata": {
        "id": "BWurqACJPleG"
      },
      "source": [
        "train['SentimentText'] = train['SentimentText'].apply(pre)\n",
        "train['SentimentText'] = train['SentimentText'].apply(decontract)\n",
        "\n",
        "test['SentimentText'] = test['SentimentText'].apply(pre)\n",
        "test['SentimentText'] = test['SentimentText'].apply(decontract)\n"
      ],
      "execution_count": null,
      "outputs": []
    },
    {
      "cell_type": "code",
      "metadata": {
        "colab": {
          "base_uri": "https://localhost:8080/",
          "height": 419
        },
        "id": "cSeNyYDDVynM",
        "outputId": "277907f9-57e6-4849-81c3-c67015110137"
      },
      "source": [
        "test"
      ],
      "execution_count": null,
      "outputs": [
        {
          "output_type": "execute_result",
          "data": {
            "text/html": [
              "<div>\n",
              "<style scoped>\n",
              "    .dataframe tbody tr th:only-of-type {\n",
              "        vertical-align: middle;\n",
              "    }\n",
              "\n",
              "    .dataframe tbody tr th {\n",
              "        vertical-align: top;\n",
              "    }\n",
              "\n",
              "    .dataframe thead th {\n",
              "        text-align: right;\n",
              "    }\n",
              "</style>\n",
              "<table border=\"1\" class=\"dataframe\">\n",
              "  <thead>\n",
              "    <tr style=\"text-align: right;\">\n",
              "      <th></th>\n",
              "      <th>ItemID</th>\n",
              "      <th>SentimentText</th>\n",
              "    </tr>\n",
              "  </thead>\n",
              "  <tbody>\n",
              "    <tr>\n",
              "      <th>0</th>\n",
              "      <td>1</td>\n",
              "      <td>sad apl friend</td>\n",
              "    </tr>\n",
              "    <tr>\n",
              "      <th>1</th>\n",
              "      <td>2</td>\n",
              "      <td>missed new moon trailer</td>\n",
              "    </tr>\n",
              "    <tr>\n",
              "      <th>2</th>\n",
              "      <td>3</td>\n",
              "      <td>omg already</td>\n",
              "    </tr>\n",
              "    <tr>\n",
              "      <th>3</th>\n",
              "      <td>4</td>\n",
              "      <td>omgaga im sooo im gunna cry dentist since suposed get crown put mins</td>\n",
              "    </tr>\n",
              "    <tr>\n",
              "      <th>4</th>\n",
              "      <td>5</td>\n",
              "      <td>think mi bf cheating</td>\n",
              "    </tr>\n",
              "    <tr>\n",
              "      <th>...</th>\n",
              "      <td>...</td>\n",
              "      <td>...</td>\n",
              "    </tr>\n",
              "    <tr>\n",
              "      <th>299984</th>\n",
              "      <td>299996</td>\n",
              "      <td>martine morning petal work brought banking first holland stayed stayed</td>\n",
              "    </tr>\n",
              "    <tr>\n",
              "      <th>299985</th>\n",
              "      <td>299997</td>\n",
              "      <td>martinetrene hello little bird finally started rick movie morning got part save day</td>\n",
              "    </tr>\n",
              "    <tr>\n",
              "      <th>299986</th>\n",
              "      <td>299998</td>\n",
              "      <td>martinezmayra got u work go buy one u know ima get u one</td>\n",
              "    </tr>\n",
              "    <tr>\n",
              "      <th>299987</th>\n",
              "      <td>299999</td>\n",
              "      <td>martinfaux certainly gives good interview</td>\n",
              "    </tr>\n",
              "    <tr>\n",
              "      <th>299988</th>\n",
              "      <td>300000</td>\n",
              "      <td>martinfaux feedback browser compatibility story v loud clear</td>\n",
              "    </tr>\n",
              "  </tbody>\n",
              "</table>\n",
              "<p>299989 rows × 2 columns</p>\n",
              "</div>"
            ],
            "text/plain": [
              "        ItemID                                                                        SentimentText\n",
              "0       1       sad apl friend                                                                     \n",
              "1       2       missed new moon trailer                                                            \n",
              "2       3       omg already                                                                        \n",
              "3       4       omgaga im sooo im gunna cry dentist since suposed get crown put mins               \n",
              "4       5       think mi bf cheating                                                               \n",
              "...    ..                        ...                                                               \n",
              "299984  299996  martine morning petal work brought banking first holland stayed stayed             \n",
              "299985  299997  martinetrene hello little bird finally started rick movie morning got part save day\n",
              "299986  299998  martinezmayra got u work go buy one u know ima get u one                           \n",
              "299987  299999  martinfaux certainly gives good interview                                          \n",
              "299988  300000  martinfaux feedback browser compatibility story v loud clear                       \n",
              "\n",
              "[299989 rows x 2 columns]"
            ]
          },
          "metadata": {
            "tags": []
          },
          "execution_count": 82
        }
      ]
    },
    {
      "cell_type": "code",
      "metadata": {
        "colab": {
          "base_uri": "https://localhost:8080/",
          "height": 419
        },
        "id": "YA5roX1uP3Li",
        "outputId": "b6a1459a-69ec-4c02-a073-f01d1897aa81"
      },
      "source": [
        "train"
      ],
      "execution_count": null,
      "outputs": [
        {
          "output_type": "execute_result",
          "data": {
            "text/html": [
              "<div>\n",
              "<style scoped>\n",
              "    .dataframe tbody tr th:only-of-type {\n",
              "        vertical-align: middle;\n",
              "    }\n",
              "\n",
              "    .dataframe tbody tr th {\n",
              "        vertical-align: top;\n",
              "    }\n",
              "\n",
              "    .dataframe thead th {\n",
              "        text-align: right;\n",
              "    }\n",
              "</style>\n",
              "<table border=\"1\" class=\"dataframe\">\n",
              "  <thead>\n",
              "    <tr style=\"text-align: right;\">\n",
              "      <th></th>\n",
              "      <th>ItemID</th>\n",
              "      <th>Sentiment</th>\n",
              "      <th>SentimentText</th>\n",
              "      <th>word count</th>\n",
              "      <th>length</th>\n",
              "    </tr>\n",
              "  </thead>\n",
              "  <tbody>\n",
              "    <tr>\n",
              "      <th>0</th>\n",
              "      <td>1</td>\n",
              "      <td>0</td>\n",
              "      <td>sad apl friend</td>\n",
              "      <td>7</td>\n",
              "      <td>61</td>\n",
              "    </tr>\n",
              "    <tr>\n",
              "      <th>1</th>\n",
              "      <td>2</td>\n",
              "      <td>0</td>\n",
              "      <td>missed new moon trailer</td>\n",
              "      <td>6</td>\n",
              "      <td>51</td>\n",
              "    </tr>\n",
              "    <tr>\n",
              "      <th>2</th>\n",
              "      <td>3</td>\n",
              "      <td>1</td>\n",
              "      <td>omg already</td>\n",
              "      <td>5</td>\n",
              "      <td>37</td>\n",
              "    </tr>\n",
              "    <tr>\n",
              "      <th>3</th>\n",
              "      <td>4</td>\n",
              "      <td>0</td>\n",
              "      <td>omgaga im sooo im gunna cry dentist since suposed get crown put mins</td>\n",
              "      <td>25</td>\n",
              "      <td>132</td>\n",
              "    </tr>\n",
              "    <tr>\n",
              "      <th>4</th>\n",
              "      <td>5</td>\n",
              "      <td>0</td>\n",
              "      <td>think mi bf cheating</td>\n",
              "      <td>9</td>\n",
              "      <td>53</td>\n",
              "    </tr>\n",
              "    <tr>\n",
              "      <th>...</th>\n",
              "      <td>...</td>\n",
              "      <td>...</td>\n",
              "      <td>...</td>\n",
              "      <td>...</td>\n",
              "      <td>...</td>\n",
              "    </tr>\n",
              "    <tr>\n",
              "      <th>99984</th>\n",
              "      <td>99996</td>\n",
              "      <td>0</td>\n",
              "      <td>cupcake seems like repeating problem hope able find something</td>\n",
              "      <td>12</td>\n",
              "      <td>78</td>\n",
              "    </tr>\n",
              "    <tr>\n",
              "      <th>99985</th>\n",
              "      <td>99997</td>\n",
              "      <td>1</td>\n",
              "      <td>cupcake arrrr replied different tweets time see duno hell kateyy</td>\n",
              "      <td>26</td>\n",
              "      <td>138</td>\n",
              "    </tr>\n",
              "    <tr>\n",
              "      <th>99986</th>\n",
              "      <td>99998</td>\n",
              "      <td>0</td>\n",
              "      <td>cupcake ya thought</td>\n",
              "      <td>5</td>\n",
              "      <td>30</td>\n",
              "    </tr>\n",
              "    <tr>\n",
              "      <th>99987</th>\n",
              "      <td>99999</td>\n",
              "      <td>1</td>\n",
              "      <td>cupcake dollie yes yes glad fun</td>\n",
              "      <td>11</td>\n",
              "      <td>61</td>\n",
              "    </tr>\n",
              "    <tr>\n",
              "      <th>99988</th>\n",
              "      <td>100000</td>\n",
              "      <td>1</td>\n",
              "      <td>cupcake kayla haha yes</td>\n",
              "      <td>5</td>\n",
              "      <td>31</td>\n",
              "    </tr>\n",
              "  </tbody>\n",
              "</table>\n",
              "<p>99989 rows × 5 columns</p>\n",
              "</div>"
            ],
            "text/plain": [
              "       ItemID  Sentiment  ... word count  length\n",
              "0      1       0          ...  7          61    \n",
              "1      2       0          ...  6          51    \n",
              "2      3       1          ...  5          37    \n",
              "3      4       0          ...  25         132   \n",
              "4      5       0          ...  9          53    \n",
              "...   ..      ..          ... ..          ..    \n",
              "99984  99996   0          ...  12         78    \n",
              "99985  99997   1          ...  26         138   \n",
              "99986  99998   0          ...  5          30    \n",
              "99987  99999   1          ...  11         61    \n",
              "99988  100000  1          ...  5          31    \n",
              "\n",
              "[99989 rows x 5 columns]"
            ]
          },
          "metadata": {
            "tags": []
          },
          "execution_count": 53
        }
      ]
    },
    {
      "cell_type": "code",
      "metadata": {
        "id": "pqTwPT8EQj9x"
      },
      "source": [
        "min_threshold_rep = 2\n",
        "train['SentimentText']= train['SentimentText'].str.replace(r'(\\w)\\1{%d,}'%(min_threshold_rep-1), r'\\1')"
      ],
      "execution_count": null,
      "outputs": []
    },
    {
      "cell_type": "code",
      "metadata": {
        "colab": {
          "base_uri": "https://localhost:8080/",
          "height": 419
        },
        "id": "EVscckXyQwk-",
        "outputId": "2c2ff21f-b13f-4d3c-babe-985c06b65246"
      },
      "source": [
        "train"
      ],
      "execution_count": null,
      "outputs": [
        {
          "output_type": "execute_result",
          "data": {
            "text/html": [
              "<div>\n",
              "<style scoped>\n",
              "    .dataframe tbody tr th:only-of-type {\n",
              "        vertical-align: middle;\n",
              "    }\n",
              "\n",
              "    .dataframe tbody tr th {\n",
              "        vertical-align: top;\n",
              "    }\n",
              "\n",
              "    .dataframe thead th {\n",
              "        text-align: right;\n",
              "    }\n",
              "</style>\n",
              "<table border=\"1\" class=\"dataframe\">\n",
              "  <thead>\n",
              "    <tr style=\"text-align: right;\">\n",
              "      <th></th>\n",
              "      <th>ItemID</th>\n",
              "      <th>Sentiment</th>\n",
              "      <th>SentimentText</th>\n",
              "      <th>word count</th>\n",
              "      <th>length</th>\n",
              "    </tr>\n",
              "  </thead>\n",
              "  <tbody>\n",
              "    <tr>\n",
              "      <th>0</th>\n",
              "      <td>1</td>\n",
              "      <td>0</td>\n",
              "      <td>sad apl friend</td>\n",
              "      <td>7</td>\n",
              "      <td>61</td>\n",
              "    </tr>\n",
              "    <tr>\n",
              "      <th>1</th>\n",
              "      <td>2</td>\n",
              "      <td>0</td>\n",
              "      <td>mised new mon trailer</td>\n",
              "      <td>6</td>\n",
              "      <td>51</td>\n",
              "    </tr>\n",
              "    <tr>\n",
              "      <th>2</th>\n",
              "      <td>3</td>\n",
              "      <td>1</td>\n",
              "      <td>omg already</td>\n",
              "      <td>5</td>\n",
              "      <td>37</td>\n",
              "    </tr>\n",
              "    <tr>\n",
              "      <th>3</th>\n",
              "      <td>4</td>\n",
              "      <td>0</td>\n",
              "      <td>omgaga im so im guna cry dentist since suposed get crown put mins</td>\n",
              "      <td>25</td>\n",
              "      <td>132</td>\n",
              "    </tr>\n",
              "    <tr>\n",
              "      <th>4</th>\n",
              "      <td>5</td>\n",
              "      <td>0</td>\n",
              "      <td>think mi bf cheating</td>\n",
              "      <td>9</td>\n",
              "      <td>53</td>\n",
              "    </tr>\n",
              "    <tr>\n",
              "      <th>...</th>\n",
              "      <td>...</td>\n",
              "      <td>...</td>\n",
              "      <td>...</td>\n",
              "      <td>...</td>\n",
              "      <td>...</td>\n",
              "    </tr>\n",
              "    <tr>\n",
              "      <th>99984</th>\n",
              "      <td>99996</td>\n",
              "      <td>0</td>\n",
              "      <td>cupcake sems like repeating problem hope able find something</td>\n",
              "      <td>12</td>\n",
              "      <td>78</td>\n",
              "    </tr>\n",
              "    <tr>\n",
              "      <th>99985</th>\n",
              "      <td>99997</td>\n",
              "      <td>1</td>\n",
              "      <td>cupcake ar replied diferent twets time se duno hel katey</td>\n",
              "      <td>26</td>\n",
              "      <td>138</td>\n",
              "    </tr>\n",
              "    <tr>\n",
              "      <th>99986</th>\n",
              "      <td>99998</td>\n",
              "      <td>0</td>\n",
              "      <td>cupcake ya thought</td>\n",
              "      <td>5</td>\n",
              "      <td>30</td>\n",
              "    </tr>\n",
              "    <tr>\n",
              "      <th>99987</th>\n",
              "      <td>99999</td>\n",
              "      <td>1</td>\n",
              "      <td>cupcake dolie yes yes glad fun</td>\n",
              "      <td>11</td>\n",
              "      <td>61</td>\n",
              "    </tr>\n",
              "    <tr>\n",
              "      <th>99988</th>\n",
              "      <td>100000</td>\n",
              "      <td>1</td>\n",
              "      <td>cupcake kayla haha yes</td>\n",
              "      <td>5</td>\n",
              "      <td>31</td>\n",
              "    </tr>\n",
              "  </tbody>\n",
              "</table>\n",
              "<p>99989 rows × 5 columns</p>\n",
              "</div>"
            ],
            "text/plain": [
              "       ItemID  Sentiment  ... word count  length\n",
              "0      1       0          ...  7          61    \n",
              "1      2       0          ...  6          51    \n",
              "2      3       1          ...  5          37    \n",
              "3      4       0          ...  25         132   \n",
              "4      5       0          ...  9          53    \n",
              "...   ..      ..          ... ..          ..    \n",
              "99984  99996   0          ...  12         78    \n",
              "99985  99997   1          ...  26         138   \n",
              "99986  99998   0          ...  5          30    \n",
              "99987  99999   1          ...  11         61    \n",
              "99988  100000  1          ...  5          31    \n",
              "\n",
              "[99989 rows x 5 columns]"
            ]
          },
          "metadata": {
            "tags": []
          },
          "execution_count": 55
        }
      ]
    },
    {
      "cell_type": "code",
      "metadata": {
        "id": "ezIzKZWHRtEb"
      },
      "source": [
        "from nltk.stem import PorterStemmer\n",
        "from nltk.tokenize import sent_tokenize, word_tokenize\n",
        "\n",
        "ps = PorterStemmer()\n"
      ],
      "execution_count": null,
      "outputs": []
    },
    {
      "cell_type": "code",
      "metadata": {
        "id": "WRrRadrsSMuc"
      },
      "source": [
        "def tokenize(text):\n",
        "    return word_tokenize(text)\n",
        "\n",
        "def stemming(words):\n",
        "    stem_words = []\n",
        "    for w in words:\n",
        "        w = ps.stem(w)\n",
        "        stem_words.append(w)\n",
        "\n",
        "    return stem_words"
      ],
      "execution_count": null,
      "outputs": []
    },
    {
      "cell_type": "code",
      "metadata": {
        "id": "0ey8OqjPSYvl"
      },
      "source": [
        "train['tokenize'] = train['SentimentText'].apply(tokenize)"
      ],
      "execution_count": null,
      "outputs": []
    },
    {
      "cell_type": "code",
      "metadata": {
        "colab": {
          "base_uri": "https://localhost:8080/",
          "height": 487
        },
        "id": "0nppM2LFS5D7",
        "outputId": "94a339e7-adba-43d8-b1cf-409362bda7a6"
      },
      "source": [
        "train"
      ],
      "execution_count": null,
      "outputs": [
        {
          "output_type": "execute_result",
          "data": {
            "text/html": [
              "<div>\n",
              "<style scoped>\n",
              "    .dataframe tbody tr th:only-of-type {\n",
              "        vertical-align: middle;\n",
              "    }\n",
              "\n",
              "    .dataframe tbody tr th {\n",
              "        vertical-align: top;\n",
              "    }\n",
              "\n",
              "    .dataframe thead th {\n",
              "        text-align: right;\n",
              "    }\n",
              "</style>\n",
              "<table border=\"1\" class=\"dataframe\">\n",
              "  <thead>\n",
              "    <tr style=\"text-align: right;\">\n",
              "      <th></th>\n",
              "      <th>ItemID</th>\n",
              "      <th>Sentiment</th>\n",
              "      <th>SentimentText</th>\n",
              "      <th>word count</th>\n",
              "      <th>length</th>\n",
              "      <th>tokenize</th>\n",
              "    </tr>\n",
              "  </thead>\n",
              "  <tbody>\n",
              "    <tr>\n",
              "      <th>0</th>\n",
              "      <td>1</td>\n",
              "      <td>0</td>\n",
              "      <td>sad apl friend</td>\n",
              "      <td>7</td>\n",
              "      <td>61</td>\n",
              "      <td>[sad, apl, friend]</td>\n",
              "    </tr>\n",
              "    <tr>\n",
              "      <th>1</th>\n",
              "      <td>2</td>\n",
              "      <td>0</td>\n",
              "      <td>mised new mon trailer</td>\n",
              "      <td>6</td>\n",
              "      <td>51</td>\n",
              "      <td>[mised, new, mon, trailer]</td>\n",
              "    </tr>\n",
              "    <tr>\n",
              "      <th>2</th>\n",
              "      <td>3</td>\n",
              "      <td>1</td>\n",
              "      <td>omg already</td>\n",
              "      <td>5</td>\n",
              "      <td>37</td>\n",
              "      <td>[omg, already]</td>\n",
              "    </tr>\n",
              "    <tr>\n",
              "      <th>3</th>\n",
              "      <td>4</td>\n",
              "      <td>0</td>\n",
              "      <td>omgaga im so im guna cry dentist since suposed get crown put mins</td>\n",
              "      <td>25</td>\n",
              "      <td>132</td>\n",
              "      <td>[omgaga, im, so, im, guna, cry, dentist, since, suposed, get, crown, put, mins]</td>\n",
              "    </tr>\n",
              "    <tr>\n",
              "      <th>4</th>\n",
              "      <td>5</td>\n",
              "      <td>0</td>\n",
              "      <td>think mi bf cheating</td>\n",
              "      <td>9</td>\n",
              "      <td>53</td>\n",
              "      <td>[think, mi, bf, cheating]</td>\n",
              "    </tr>\n",
              "    <tr>\n",
              "      <th>...</th>\n",
              "      <td>...</td>\n",
              "      <td>...</td>\n",
              "      <td>...</td>\n",
              "      <td>...</td>\n",
              "      <td>...</td>\n",
              "      <td>...</td>\n",
              "    </tr>\n",
              "    <tr>\n",
              "      <th>99984</th>\n",
              "      <td>99996</td>\n",
              "      <td>0</td>\n",
              "      <td>cupcake sems like repeating problem hope able find something</td>\n",
              "      <td>12</td>\n",
              "      <td>78</td>\n",
              "      <td>[cupcake, sems, like, repeating, problem, hope, able, find, something]</td>\n",
              "    </tr>\n",
              "    <tr>\n",
              "      <th>99985</th>\n",
              "      <td>99997</td>\n",
              "      <td>1</td>\n",
              "      <td>cupcake ar replied diferent twets time se duno hel katey</td>\n",
              "      <td>26</td>\n",
              "      <td>138</td>\n",
              "      <td>[cupcake, ar, replied, diferent, twets, time, se, duno, hel, katey]</td>\n",
              "    </tr>\n",
              "    <tr>\n",
              "      <th>99986</th>\n",
              "      <td>99998</td>\n",
              "      <td>0</td>\n",
              "      <td>cupcake ya thought</td>\n",
              "      <td>5</td>\n",
              "      <td>30</td>\n",
              "      <td>[cupcake, ya, thought]</td>\n",
              "    </tr>\n",
              "    <tr>\n",
              "      <th>99987</th>\n",
              "      <td>99999</td>\n",
              "      <td>1</td>\n",
              "      <td>cupcake dolie yes yes glad fun</td>\n",
              "      <td>11</td>\n",
              "      <td>61</td>\n",
              "      <td>[cupcake, dolie, yes, yes, glad, fun]</td>\n",
              "    </tr>\n",
              "    <tr>\n",
              "      <th>99988</th>\n",
              "      <td>100000</td>\n",
              "      <td>1</td>\n",
              "      <td>cupcake kayla haha yes</td>\n",
              "      <td>5</td>\n",
              "      <td>31</td>\n",
              "      <td>[cupcake, kayla, haha, yes]</td>\n",
              "    </tr>\n",
              "  </tbody>\n",
              "</table>\n",
              "<p>99989 rows × 6 columns</p>\n",
              "</div>"
            ],
            "text/plain": [
              "       ItemID  ...                                                                         tokenize\n",
              "0      1       ...  [sad, apl, friend]                                                             \n",
              "1      2       ...  [mised, new, mon, trailer]                                                     \n",
              "2      3       ...  [omg, already]                                                                 \n",
              "3      4       ...  [omgaga, im, so, im, guna, cry, dentist, since, suposed, get, crown, put, mins]\n",
              "4      5       ...  [think, mi, bf, cheating]                                                      \n",
              "...   ..       ...                        ...                                                      \n",
              "99984  99996   ...  [cupcake, sems, like, repeating, problem, hope, able, find, something]         \n",
              "99985  99997   ...  [cupcake, ar, replied, diferent, twets, time, se, duno, hel, katey]            \n",
              "99986  99998   ...  [cupcake, ya, thought]                                                         \n",
              "99987  99999   ...  [cupcake, dolie, yes, yes, glad, fun]                                          \n",
              "99988  100000  ...  [cupcake, kayla, haha, yes]                                                    \n",
              "\n",
              "[99989 rows x 6 columns]"
            ]
          },
          "metadata": {
            "tags": []
          },
          "execution_count": 74
        }
      ]
    },
    {
      "cell_type": "code",
      "metadata": {
        "id": "Hjg-j1pqTRIh"
      },
      "source": [
        "corpus=[]\n",
        "\n",
        "for x in train['SentimentText'].str.split():\n",
        "    for i in x:\n",
        "        corpus.append(i)"
      ],
      "execution_count": null,
      "outputs": []
    },
    {
      "cell_type": "code",
      "metadata": {
        "colab": {
          "base_uri": "https://localhost:8080/",
          "height": 328
        },
        "id": "bvsogDDKTZrk",
        "outputId": "f12c7b3a-5285-4c33-dd5d-5e9565a55c66"
      },
      "source": [
        "from nltk.corpus import stopwords\n",
        "stop = stopwords.words('english')\n",
        "dic=defaultdict(int)\n",
        "for word in corpus:\n",
        "    if word in stop:\n",
        "        dic[word]+=1\n",
        "\n",
        "top=sorted(dic.items(), key=lambda x:x[1],reverse=True)[:20]\n",
        "\n",
        "\n",
        "\n",
        "x,y=zip(*top)\n",
        "plt.rcParams[\"figure.figsize\"] = (15,5)\n",
        "#There is also this workaround in case you want to change the size without using the figure environment.\n",
        "#So in case you are using plt.plot() for example, you can set a tuple with width and height.\n",
        "plt.bar(x,y , color ='TEAL')\n"
      ],
      "execution_count": null,
      "outputs": [
        {
          "output_type": "execute_result",
          "data": {
            "text/plain": [
              "<BarContainer object of 20 artists>"
            ]
          },
          "metadata": {
            "tags": []
          },
          "execution_count": 76
        },
        {
          "output_type": "display_data",
          "data": {
            "image/png": "[encoded data removed]",
            "text/plain": [
              "<Figure size 1080x360 with 1 Axes>"
            ]
          },
          "metadata": {
            "tags": []
          }
        }
      ]
    },
    {
      "cell_type": "code",
      "metadata": {
        "colab": {
          "base_uri": "https://localhost:8080/",
          "height": 353
        },
        "id": "RouykMHMTis_",
        "outputId": "b08888b2-ff39-44c9-e950-0096438dbd7e"
      },
      "source": [
        "dic=defaultdict(int)\n",
        "for word in corpus:\n",
        "    if word not in stop:\n",
        "        dic[word]+=1\n",
        "\n",
        "top=sorted(dic.items(), key=lambda x:x[1],reverse=True)[:20]\n",
        "\n",
        "\n",
        "\n",
        "x,y=zip(*top)\n",
        "plt.rcParams[\"figure.figsize\"] = (15,5)\n",
        "plt.bar(x,y , color ='CORAL')"
      ],
      "execution_count": null,
      "outputs": [
        {
          "output_type": "execute_result",
          "data": {
            "text/plain": [
              "<BarContainer object of 20 artists>"
            ]
          },
          "metadata": {
            "tags": []
          },
          "execution_count": 77
        },
        {
          "output_type": "display_data",
          "data": {
            "image/png": "[encoded data removed]",
            "text/plain": [
              "<Figure size 1080x360 with 1 Axes>"
            ]
          },
          "metadata": {
            "tags": []
          }
        }
      ]
    },
    {
      "cell_type": "code",
      "metadata": {
        "colab": {
          "base_uri": "https://localhost:8080/",
          "height": 393
        },
        "id": "BbW1hZbkU9YR",
        "outputId": "a79ba8ad-e80b-45fd-f963-fcbfe01ea378"
      },
      "source": [
        "from nltk.corpus import stopwords\n",
        "stop = stopwords.words('english')\n",
        "train['SentimentText'] = train['SentimentText'].apply(lambda x: ' '.join([word for word in x.split() if word not in (stop)]))\n",
        "train.head(10)"
      ],
      "execution_count": null,
      "outputs": [
        {
          "output_type": "execute_result",
          "data": {
            "text/html": [
              "<div>\n",
              "<style scoped>\n",
              "    .dataframe tbody tr th:only-of-type {\n",
              "        vertical-align: middle;\n",
              "    }\n",
              "\n",
              "    .dataframe tbody tr th {\n",
              "        vertical-align: top;\n",
              "    }\n",
              "\n",
              "    .dataframe thead th {\n",
              "        text-align: right;\n",
              "    }\n",
              "</style>\n",
              "<table border=\"1\" class=\"dataframe\">\n",
              "  <thead>\n",
              "    <tr style=\"text-align: right;\">\n",
              "      <th></th>\n",
              "      <th>ItemID</th>\n",
              "      <th>Sentiment</th>\n",
              "      <th>SentimentText</th>\n",
              "      <th>word count</th>\n",
              "      <th>length</th>\n",
              "      <th>tokenize</th>\n",
              "    </tr>\n",
              "  </thead>\n",
              "  <tbody>\n",
              "    <tr>\n",
              "      <th>0</th>\n",
              "      <td>1</td>\n",
              "      <td>0</td>\n",
              "      <td>sad apl friend</td>\n",
              "      <td>7</td>\n",
              "      <td>61</td>\n",
              "      <td>[sad, apl, friend]</td>\n",
              "    </tr>\n",
              "    <tr>\n",
              "      <th>1</th>\n",
              "      <td>2</td>\n",
              "      <td>0</td>\n",
              "      <td>mised new mon trailer</td>\n",
              "      <td>6</td>\n",
              "      <td>51</td>\n",
              "      <td>[mised, new, mon, trailer]</td>\n",
              "    </tr>\n",
              "    <tr>\n",
              "      <th>2</th>\n",
              "      <td>3</td>\n",
              "      <td>1</td>\n",
              "      <td>omg already</td>\n",
              "      <td>5</td>\n",
              "      <td>37</td>\n",
              "      <td>[omg, already]</td>\n",
              "    </tr>\n",
              "    <tr>\n",
              "      <th>3</th>\n",
              "      <td>4</td>\n",
              "      <td>0</td>\n",
              "      <td>omgaga im im guna cry dentist since suposed get crown put mins</td>\n",
              "      <td>25</td>\n",
              "      <td>132</td>\n",
              "      <td>[omgaga, im, so, im, guna, cry, dentist, since, suposed, get, crown, put, mins]</td>\n",
              "    </tr>\n",
              "    <tr>\n",
              "      <th>4</th>\n",
              "      <td>5</td>\n",
              "      <td>0</td>\n",
              "      <td>think mi bf cheating</td>\n",
              "      <td>9</td>\n",
              "      <td>53</td>\n",
              "      <td>[think, mi, bf, cheating]</td>\n",
              "    </tr>\n",
              "    <tr>\n",
              "      <th>5</th>\n",
              "      <td>6</td>\n",
              "      <td>0</td>\n",
              "      <td>wory much</td>\n",
              "      <td>6</td>\n",
              "      <td>42</td>\n",
              "      <td>[wory, much]</td>\n",
              "    </tr>\n",
              "    <tr>\n",
              "      <th>6</th>\n",
              "      <td>7</td>\n",
              "      <td>1</td>\n",
              "      <td>chilin</td>\n",
              "      <td>2</td>\n",
              "      <td>41</td>\n",
              "      <td>[just, chilin]</td>\n",
              "    </tr>\n",
              "    <tr>\n",
              "      <th>7</th>\n",
              "      <td>8</td>\n",
              "      <td>0</td>\n",
              "      <td>suny work tomorow tv tonight</td>\n",
              "      <td>7</td>\n",
              "      <td>61</td>\n",
              "      <td>[suny, work, tomorow, tv, tonight]</td>\n",
              "    </tr>\n",
              "    <tr>\n",
              "      <th>8</th>\n",
              "      <td>9</td>\n",
              "      <td>1</td>\n",
              "      <td>handed uniform today mis already</td>\n",
              "      <td>10</td>\n",
              "      <td>53</td>\n",
              "      <td>[handed, uniform, today, mis, already]</td>\n",
              "    </tr>\n",
              "    <tr>\n",
              "      <th>9</th>\n",
              "      <td>10</td>\n",
              "      <td>1</td>\n",
              "      <td>hm wonder number</td>\n",
              "      <td>8</td>\n",
              "      <td>46</td>\n",
              "      <td>[hm, wonder, number]</td>\n",
              "    </tr>\n",
              "  </tbody>\n",
              "</table>\n",
              "</div>"
            ],
            "text/plain": [
              "   ItemID  ...                                                                         tokenize\n",
              "0  1       ...  [sad, apl, friend]                                                             \n",
              "1  2       ...  [mised, new, mon, trailer]                                                     \n",
              "2  3       ...  [omg, already]                                                                 \n",
              "3  4       ...  [omgaga, im, so, im, guna, cry, dentist, since, suposed, get, crown, put, mins]\n",
              "4  5       ...  [think, mi, bf, cheating]                                                      \n",
              "5  6       ...  [wory, much]                                                                   \n",
              "6  7       ...  [just, chilin]                                                                 \n",
              "7  8       ...  [suny, work, tomorow, tv, tonight]                                             \n",
              "8  9       ...  [handed, uniform, today, mis, already]                                         \n",
              "9  10      ...  [hm, wonder, number]                                                           \n",
              "\n",
              "[10 rows x 6 columns]"
            ]
          },
          "metadata": {
            "tags": []
          },
          "execution_count": 83
        }
      ]
    },
    {
      "cell_type": "code",
      "metadata": {
        "colab": {
          "base_uri": "https://localhost:8080/",
          "height": 232
        },
        "id": "UEITHlnnWdS5",
        "outputId": "deabd934-7c58-4757-d8cb-84450be79e09"
      },
      "source": [
        "def generate_ngrams(text, n_gram=1):\n",
        "    token = [token for token in text.lower().split(' ') if token != '' if token not in STOPWORDS]\n",
        "    ngrams = zip(*[token[i:] for i in range(n_gram)])\n",
        "    return [' '.join(ngram) for ngram in ngrams]\n",
        "\n",
        "N = 100\n",
        "\n",
        "# Unigrams\n",
        "disaster_unigrams = defaultdict(int)\n",
        "nondisaster_unigrams = defaultdict(int)\n",
        "\n",
        "for tweet in train[TWEETS]['SentimentText']:\n",
        "    for word in generate_ngrams(tweet):\n",
        "        disaster_unigrams[word] += 1\n",
        "\n",
        "for tweet in train[~TWEETS]['SentimentText']:\n",
        "    for word in generate_ngrams(tweet):\n",
        "        nondisaster_unigrams[word] += 1\n",
        "\n",
        "df_disaster_unigrams = pd.DataFrame(sorted(disaster_unigrams.items(), key=lambda x: x[1])[::-1])\n",
        "df_nondisaster_unigrams = pd.DataFrame(sorted(nondisaster_unigrams.items(), key=lambda x: x[1])[::-1])\n",
        "\n",
        "# Bigrams\n",
        "disaster_bigrams = defaultdict(int)\n",
        "nondisaster_bigrams = defaultdict(int)\n",
        "\n",
        "for tweet in train[TWEETS]['SentimentText']:\n",
        "    for word in generate_ngrams(tweet, n_gram=2):\n",
        "        disaster_bigrams[word] += 1\n",
        "\n",
        "for tweet in train[~TWEETS]['SentimentText']:\n",
        "    for word in generate_ngrams(tweet, n_gram=2):\n",
        "        nondisaster_bigrams[word] += 1\n",
        "\n",
        "df_disaster_bigrams = pd.DataFrame(sorted(disaster_bigrams.items(), key=lambda x: x[1])[::-1])\n",
        "df_nondisaster_bigrams = pd.DataFrame(sorted(nondisaster_bigrams.items(), key=lambda x: x[1])[::-1])\n",
        "\n",
        "# Trigrams\n",
        "disaster_trigrams = defaultdict(int)\n",
        "nondisaster_trigrams = defaultdict(int)\n",
        "\n",
        "for tweet in train[TWEETS]['SentimentText']:\n",
        "    for word in generate_ngrams(tweet, n_gram=3):\n",
        "        disaster_trigrams[word] += 1\n",
        "\n",
        "for tweet in train[~TWEETS]['SentimentText']:\n",
        "    for word in generate_ngrams(tweet, n_gram=3):\n",
        "        nondisaster_trigrams[word] += 1\n",
        "\n",
        "df_disaster_trigrams = pd.DataFrame(sorted(disaster_trigrams.items(), key=lambda x: x[1])[::-1])\n",
        "df_nondisaster_trigrams = pd.DataFrame(sorted(nondisaster_trigrams.items(), key=lambda x: x[1])[::-1])"
      ],
      "execution_count": null,
      "outputs": [
        {
          "output_type": "error",
          "ename": "NameError",
          "evalue": "ignored",
          "traceback": [
            "\u001b[0;31m---------------------------------------------------------------------------\u001b[0m",
            "\u001b[0;31mNameError\u001b[0m                                 Traceback (most recent call last)",
            "\u001b[0;32m<ipython-input-85-a05baf108484>\u001b[0m in \u001b[0;36m<module>\u001b[0;34m()\u001b[0m\n\u001b[1;32m     10\u001b[0m \u001b[0mnondisaster_unigrams\u001b[0m \u001b[0;34m=\u001b[0m \u001b[0mdefaultdict\u001b[0m\u001b[0;34m(\u001b[0m\u001b[0mint\u001b[0m\u001b[0;34m)\u001b[0m\u001b[0;34m\u001b[0m\u001b[0;34m\u001b[0m\u001b[0m\n\u001b[1;32m     11\u001b[0m \u001b[0;34m\u001b[0m\u001b[0m\n\u001b[0;32m---> 12\u001b[0;31m \u001b[0;32mfor\u001b[0m \u001b[0mtweet\u001b[0m \u001b[0;32min\u001b[0m \u001b[0mtrain\u001b[0m\u001b[0;34m[\u001b[0m\u001b[0mTWEETS\u001b[0m\u001b[0;34m]\u001b[0m\u001b[0;34m[\u001b[0m\u001b[0;34m'SentimentText'\u001b[0m\u001b[0;34m]\u001b[0m\u001b[0;34m:\u001b[0m\u001b[0;34m\u001b[0m\u001b[0;34m\u001b[0m\u001b[0m\n\u001b[0m\u001b[1;32m     13\u001b[0m     \u001b[0;32mfor\u001b[0m \u001b[0mword\u001b[0m \u001b[0;32min\u001b[0m \u001b[0mgenerate_ngrams\u001b[0m\u001b[0;34m(\u001b[0m\u001b[0mtweet\u001b[0m\u001b[0;34m)\u001b[0m\u001b[0;34m:\u001b[0m\u001b[0;34m\u001b[0m\u001b[0;34m\u001b[0m\u001b[0m\n\u001b[1;32m     14\u001b[0m         \u001b[0mdisaster_unigrams\u001b[0m\u001b[0;34m[\u001b[0m\u001b[0mword\u001b[0m\u001b[0;34m]\u001b[0m \u001b[0;34m+=\u001b[0m \u001b[0;36m1\u001b[0m\u001b[0;34m\u001b[0m\u001b[0;34m\u001b[0m\u001b[0m\n",
            "\u001b[0;31mNameError\u001b[0m: name 'TWEETS' is not defined"
          ]
        }
      ]
    },
    {
      "cell_type": "code",
      "metadata": {
        "colab": {
          "base_uri": "https://localhost:8080/",
          "height": 366
        },
        "id": "eeoJvjInXAup",
        "outputId": "e1ec2215-dfda-4b69-ef87-2a91e3b0b5b2"
      },
      "source": [
        "# Generating the wordcloud with the values under the category dataframe\n",
        "plt.figure(figsize=(12,8))\n",
        "word_cloud = WordCloud(\n",
        "                          background_color='black',\n",
        "                          max_font_size = 20\n",
        "                         ).generate(\" \".join(corpus[:100]))\n",
        "plt.imshow(word_cloud)\n",
        "plt.axis('off')\n",
        "plt.show()"
      ],
      "execution_count": null,
      "outputs": [
        {
          "output_type": "display_data",
          "data": {
            "image/png": "[encoded data removed]",
            "text/plain": [
              "<Figure size 864x576 with 1 Axes>"
            ]
          },
          "metadata": {
            "tags": []
          }
        }
      ]
    },
    {
      "cell_type": "code",
      "metadata": {
        "id": "31sG1EKkXLJN"
      },
      "source": [
        "def cv(data):\n",
        "    count_vectorizer = CountVectorizer()\n",
        "\n",
        "    emb = count_vectorizer.fit_transform(data)\n",
        "\n",
        "    return emb, count_vectorizer\n",
        "\n",
        "list_corpus = train[\"SentimentText\"].tolist()\n",
        "list_labels = train[\"Sentiment\"].tolist()\n",
        "\n",
        "X_train, X_test, y_train, y_test = train_test_split(list_corpus, list_labels, test_size=0.2)\n",
        "\n",
        "X_train_counts, count_vectorizer = cv(X_train)\n",
        "X_test_counts = count_vectorizer.transform(X_test)"
      ],
      "execution_count": null,
      "outputs": []
    },
    {
      "cell_type": "code",
      "metadata": {
        "colab": {
          "base_uri": "https://localhost:8080/"
        },
        "id": "4eGVRs0bXNVo",
        "outputId": "f7f1e79b-3197-4175-e331-805e95ea61c8"
      },
      "source": [
        "X_train_counts.shape"
      ],
      "execution_count": null,
      "outputs": [
        {
          "output_type": "execute_result",
          "data": {
            "text/plain": [
              "(79991, 77224)"
            ]
          },
          "metadata": {
            "tags": []
          },
          "execution_count": 89
        }
      ]
    },
    {
      "cell_type": "code",
      "metadata": {
        "colab": {
          "base_uri": "https://localhost:8080/"
        },
        "id": "SlUKDdweXbTd",
        "outputId": "a38b93f7-94a2-4965-b0db-6883f8cae6c3"
      },
      "source": [
        "X_test_counts.shape"
      ],
      "execution_count": null,
      "outputs": [
        {
          "output_type": "execute_result",
          "data": {
            "text/plain": [
              "(19998, 77224)"
            ]
          },
          "metadata": {
            "tags": []
          },
          "execution_count": 90
        }
      ]
    },
    {
      "cell_type": "code",
      "metadata": {
        "id": "p_ii-NpAXoRn"
      },
      "source": [
        "from google.colab import files\n",
        "train.to_csv('trainG_clean.csv',index = False)\n",
        "test.to_csv('test_clean.csv',index = False)"
      ],
      "execution_count": null,
      "outputs": []
    },
    {
      "cell_type": "code",
      "metadata": {
        "colab": {
          "base_uri": "https://localhost:8080/",
          "height": 17
        },
        "id": "urQWNF55Xw9e",
        "outputId": "eefd1e29-3c0f-4edb-b0b5-699f07f32d5a"
      },
      "source": [
        "files.download('trainG_clean.csv')"
      ],
      "execution_count": null,
      "outputs": [
        {
          "output_type": "display_data",
          "data": {
            "application/javascript": [
              "\n",
              "    async function download(id, filename, size) {\n",
              "      if (!google.colab.kernel.accessAllowed) {\n",
              "        return;\n",
              "      }\n",
              "      const div = document.createElement('div');\n",
              "      const label = document.createElement('label');\n",
              "      label.textContent = `Downloading \"${filename}\": `;\n",
              "      div.appendChild(label);\n",
              "      const progress = document.createElement('progress');\n",
              "      progress.max = size;\n",
              "      div.appendChild(progress);\n",
              "      document.body.appendChild(div);\n",
              "\n",
              "      const buffers = [];\n",
              "      let downloaded = 0;\n",
              "\n",
              "      const channel = await google.colab.kernel.comms.open(id);\n",
              "      // Send a message to notify the kernel that we're ready.\n",
              "      channel.send({})\n",
              "\n",
              "      for await (const message of channel.messages) {\n",
              "        // Send a message to notify the kernel that we're ready.\n",
              "        channel.send({})\n",
              "        if (message.buffers) {\n",
              "          for (const buffer of message.buffers) {\n",
              "            buffers.push(buffer);\n",
              "            downloaded += buffer.byteLength;\n",
              "            progress.value = downloaded;\n",
              "          }\n",
              "        }\n",
              "      }\n",
              "      const blob = new Blob(buffers, {type: 'application/binary'});\n",
              "      const a = document.createElement('a');\n",
              "      a.href = window.URL.createObjectURL(blob);\n",
              "      a.download = filename;\n",
              "      div.appendChild(a);\n",
              "      a.click();\n",
              "      div.remove();\n",
              "    }\n",
              "  "
            ],
            "text/plain": [
              "<IPython.core.display.Javascript object>"
            ]
          },
          "metadata": {
            "tags": []
          }
        },
        {
          "output_type": "display_data",
          "data": {
            "application/javascript": [
              "download(\"download_7509b383-9fd7-4f31-89e0-f49e5e7ce7b1\", \"trainG_clean.csv\", 13555387)"
            ],
            "text/plain": [
              "<IPython.core.display.Javascript object>"
            ]
          },
          "metadata": {
            "tags": []
          }
        }
      ]
    },
    {
      "cell_type": "code",
      "metadata": {
        "colab": {
          "base_uri": "https://localhost:8080/",
          "height": 17
        },
        "id": "Yhf99Ig-Xyah",
        "outputId": "264b38e0-5166-4a9e-f587-c02545c6dfa6"
      },
      "source": [
        "files.download('test_clean.csv')"
      ],
      "execution_count": null,
      "outputs": [
        {
          "output_type": "display_data",
          "data": {
            "application/javascript": [
              "\n",
              "    async function download(id, filename, size) {\n",
              "      if (!google.colab.kernel.accessAllowed) {\n",
              "        return;\n",
              "      }\n",
              "      const div = document.createElement('div');\n",
              "      const label = document.createElement('label');\n",
              "      label.textContent = `Downloading \"${filename}\": `;\n",
              "      div.appendChild(label);\n",
              "      const progress = document.createElement('progress');\n",
              "      progress.max = size;\n",
              "      div.appendChild(progress);\n",
              "      document.body.appendChild(div);\n",
              "\n",
              "      const buffers = [];\n",
              "      let downloaded = 0;\n",
              "\n",
              "      const channel = await google.colab.kernel.comms.open(id);\n",
              "      // Send a message to notify the kernel that we're ready.\n",
              "      channel.send({})\n",
              "\n",
              "      for await (const message of channel.messages) {\n",
              "        // Send a message to notify the kernel that we're ready.\n",
              "        channel.send({})\n",
              "        if (message.buffers) {\n",
              "          for (const buffer of message.buffers) {\n",
              "            buffers.push(buffer);\n",
              "            downloaded += buffer.byteLength;\n",
              "            progress.value = downloaded;\n",
              "          }\n",
              "        }\n",
              "      }\n",
              "      const blob = new Blob(buffers, {type: 'application/binary'});\n",
              "      const a = document.createElement('a');\n",
              "      a.href = window.URL.createObjectURL(blob);\n",
              "      a.download = filename;\n",
              "      div.appendChild(a);\n",
              "      a.click();\n",
              "      div.remove();\n",
              "    }\n",
              "  "
            ],
            "text/plain": [
              "<IPython.core.display.Javascript object>"
            ]
          },
          "metadata": {
            "tags": []
          }
        },
        {
          "output_type": "display_data",
          "data": {
            "application/javascript": [
              "download(\"download_f91a7d83-2953-4997-b54c-199f7fc675b0\", \"test_clean.csv\", 17160625)"
            ],
            "text/plain": [
              "<IPython.core.display.Javascript object>"
            ]
          },
          "metadata": {
            "tags": []
          }
        }
      ]
    },
    {
      "cell_type": "code",
      "metadata": {
        "id": "Dks_UKTYX-Hh"
      },
      "source": [
        "trainG = train.copy()\n",
        "test = test.copy()"
      ],
      "execution_count": null,
      "outputs": []
    },
    {
      "cell_type": "code",
      "metadata": {
        "id": "SfMX21kyYF4C"
      },
      "source": [
        "import pandas as pd\n",
        "import numpy as np\n",
        "import matplotlib.pyplot as plt\n",
        "from wordcloud import WordCloud\n",
        "from sklearn.model_selection import train_test_split\n",
        "from sklearn.feature_extraction.text import TfidfVectorizer\n",
        "import pickle\n",
        "from multiprocessing import Pool\n",
        "from google.colab import files\n",
        "import io\n",
        "import pandas as pd\n",
        "import numpy as np\n",
        "import matplotlib.pyplot as plt\n",
        "import seaborn as sns\n",
        "from sklearn import svm\n",
        "from sklearn.feature_extraction.text import CountVectorizer\n",
        "from sklearn.feature_extraction.text import TfidfVectorizer\n",
        "from sklearn import metrics\n",
        "from sklearn.metrics import classification_report,accuracy_score\n",
        "import six.moves.cPickle as pickle\n",
        "from sklearn.svm import LinearSVC\n",
        "from sklearn.feature_extraction.text import TfidfVectorizer\n",
        "from sklearn.pipeline import Pipeline\n",
        "from sklearn.model_selection import train_test_split\n",
        "from sklearn.metrics import accuracy_score, classification_report, confusion_matrix\n",
        "\n",
        "import numpy as np\n",
        "import pandas as pd\n",
        "\n",
        "import spacy\n",
        "from spacy.matcher import Matcher\n",
        "from spacy.tokens import Span\n",
        "from spacy import displacy"
      ],
      "execution_count": null,
      "outputs": []
    },
    {
      "cell_type": "code",
      "metadata": {
        "id": "HshpLV7zYk8N"
      },
      "source": [
        "x = trainG['SentimentText'].astype(str)\n",
        "y = trainG['Sentiment']"
      ],
      "execution_count": null,
      "outputs": []
    },
    {
      "cell_type": "code",
      "metadata": {
        "id": "blGy9xx4YpPV"
      },
      "source": [
        "X_train, X_test, y_train, y_test = train_test_split(x, y, test_size = 0.2, random_state = 42)"
      ],
      "execution_count": null,
      "outputs": []
    },
    {
      "cell_type": "code",
      "metadata": {
        "id": "6_G4j1xjYJgx"
      },
      "source": [
        "tfidf = TfidfVectorizer(encoding='utf-8',\n",
        "                       ngram_range=(1,3),\n",
        "                       max_df=1.0,\n",
        "                       min_df=10,\n",
        "                       max_features=500,\n",
        "                       norm='l2',\n",
        "                       sublinear_tf=True)"
      ],
      "execution_count": null,
      "outputs": []
    },
    {
      "cell_type": "code",
      "metadata": {
        "colab": {
          "base_uri": "https://localhost:8080/"
        },
        "id": "Rd_SafJGYOJJ",
        "outputId": "372e77e1-8b7d-456a-ca4b-10bd3599e0c0"
      },
      "source": [
        "train_features = tfidf.fit_transform(X_train.values.astype('U')).toarray()\n",
        "\n",
        "print(train_features.shape)"
      ],
      "execution_count": null,
      "outputs": [
        {
          "output_type": "stream",
          "text": [
            "(79991, 500)\n"
          ],
          "name": "stdout"
        }
      ]
    },
    {
      "cell_type": "code",
      "metadata": {
        "colab": {
          "base_uri": "https://localhost:8080/"
        },
        "id": "UR72VRiTY1de",
        "outputId": "31273f10-bb54-4b87-d8de-f5b8a8a78811"
      },
      "source": [
        "test_features = tfidf.transform(X_test.values.astype('U')).toarray()\n",
        "print(test_features.shape)"
      ],
      "execution_count": null,
      "outputs": [
        {
          "output_type": "stream",
          "text": [
            "(19998, 500)\n"
          ],
          "name": "stdout"
        }
      ]
    },
    {
      "cell_type": "code",
      "metadata": {
        "id": "hCqvhVuKY4z1"
      },
      "source": [
        "train_labels = y_train\n",
        "test_labels = y_test"
      ],
      "execution_count": null,
      "outputs": []
    },
    {
      "cell_type": "code",
      "metadata": {
        "id": "5aJNVn4YY7v7"
      },
      "source": [
        "import pandas as pd\n",
        "from sklearn.naive_bayes import MultinomialNB\n",
        "from sklearn.metrics import classification_report, confusion_matrix, accuracy_score"
      ],
      "execution_count": null,
      "outputs": []
    },
    {
      "cell_type": "code",
      "metadata": {
        "id": "zVqbq4ltY_as"
      },
      "source": [
        "mnb_classifier = MultinomialNB()\n",
        "mnb_classifier.fit(train_features, train_labels)\n",
        "mnb_prediction = mnb_classifier.predict(test_features)\n"
      ],
      "execution_count": null,
      "outputs": []
    },
    {
      "cell_type": "code",
      "metadata": {
        "colab": {
          "base_uri": "https://localhost:8080/"
        },
        "id": "u0QTxMz7ZIMb",
        "outputId": "3b69793f-7176-4126-e0fc-c5117242accf"
      },
      "source": [
        "training_accuracy_mnb = accuracy_score(train_labels, mnb_classifier.predict(train_features))\n",
        "print(training_accuracy_mnb)"
      ],
      "execution_count": null,
      "outputs": [
        {
          "output_type": "stream",
          "text": [
            "0.7128551962095736\n"
          ],
          "name": "stdout"
        }
      ]
    },
    {
      "cell_type": "code",
      "metadata": {
        "colab": {
          "base_uri": "https://localhost:8080/"
        },
        "id": "vCbJAtOWZgmS",
        "outputId": "a4499d5f-8ddd-496f-a0ce-945cd7582bae"
      },
      "source": [
        "testing_accuracy_mnb = accuracy_score(test_labels, mnb_prediction)\n",
        "testing_accuracy_svm = accuracy_score(test_labels, svm_prediction)\n",
        "print(testing_accuracy_mnb)\n"
      ],
      "execution_count": null,
      "outputs": [
        {
          "output_type": "stream",
          "text": [
            "0.7063706370637064\n"
          ],
          "name": "stdout"
        }
      ]
    },
    {
      "cell_type": "code",
      "metadata": {
        "id": "_CDKBQc3ZQVQ"
      },
      "source": [
        "svm_classifier = LinearSVC()\n",
        "svm_classifier.fit(train_features, train_labels)\n",
        "svm_prediction = svm_classifier.predict(test_features)"
      ],
      "execution_count": null,
      "outputs": []
    },
    {
      "cell_type": "code",
      "metadata": {
        "colab": {
          "base_uri": "https://localhost:8080/"
        },
        "id": "CczCnyW0ZZDX",
        "outputId": "c7b421c3-7ef0-478a-f462-73a28a6bcdb3"
      },
      "source": [
        "training_accuracy_svm = accuracy_score(train_labels, svm_classifier.predict(train_features))\n",
        "print(training_accuracy_svm)\n"
      ],
      "execution_count": null,
      "outputs": [
        {
          "output_type": "stream",
          "text": [
            "0.717805753147229\n"
          ],
          "name": "stdout"
        }
      ]
    },
    {
      "cell_type": "code",
      "metadata": {
        "colab": {
          "base_uri": "https://localhost:8080/"
        },
        "id": "ztbT30faZpTG",
        "outputId": "67d83993-12bf-40a7-c304-9d5263468cf8"
      },
      "source": [
        "testing_accuracy_svm = accuracy_score(test_labels, svm_prediction)\n",
        "print(testing_accuracy_svm)"
      ],
      "execution_count": null,
      "outputs": [
        {
          "output_type": "stream",
          "text": [
            "0.7104210421042104\n"
          ],
          "name": "stdout"
        }
      ]
    },
    {
      "cell_type": "code",
      "metadata": {
        "colab": {
          "base_uri": "https://localhost:8080/"
        },
        "id": "IYfpQ8NvZu5I",
        "outputId": "de520318-eeb0-4a5e-d132-ff9fb303cea3"
      },
      "source": [
        "print(classification_report(test_labels, mnb_prediction))\n"
      ],
      "execution_count": null,
      "outputs": [
        {
          "output_type": "stream",
          "text": [
            "              precision    recall  f1-score   support\n",
            "\n",
            "           0       0.72      0.54      0.62      8750\n",
            "           1       0.70      0.84      0.76     11248\n",
            "\n",
            "    accuracy                           0.71     19998\n",
            "   macro avg       0.71      0.69      0.69     19998\n",
            "weighted avg       0.71      0.71      0.70     19998\n",
            "\n"
          ],
          "name": "stdout"
        }
      ]
    },
    {
      "cell_type": "code",
      "metadata": {
        "colab": {
          "base_uri": "https://localhost:8080/"
        },
        "id": "ac7DfzXKaBRZ",
        "outputId": "15316a09-8112-444f-da27-4d6e2373abcb"
      },
      "source": [
        "conf_matrix_mnb = confusion_matrix(test_labels, mnb_prediction)\n",
        "print(conf_matrix_mnb)\n"
      ],
      "execution_count": null,
      "outputs": [
        {
          "output_type": "stream",
          "text": [
            "[[4709 4041]\n",
            " [1831 9417]]\n"
          ],
          "name": "stdout"
        }
      ]
    },
    {
      "cell_type": "code",
      "metadata": {
        "colab": {
          "base_uri": "https://localhost:8080/"
        },
        "id": "VpeUGLBEZ5fW",
        "outputId": "1e461897-c3e3-4d4a-f958-aa4a087e14ae"
      },
      "source": [
        "print(classification_report(test_labels, svm_prediction))"
      ],
      "execution_count": null,
      "outputs": [
        {
          "output_type": "stream",
          "text": [
            "              precision    recall  f1-score   support\n",
            "\n",
            "           0       0.71      0.57      0.63      8750\n",
            "           1       0.71      0.82      0.76     11248\n",
            "\n",
            "    accuracy                           0.71     19998\n",
            "   macro avg       0.71      0.69      0.70     19998\n",
            "weighted avg       0.71      0.71      0.70     19998\n",
            "\n"
          ],
          "name": "stdout"
        }
      ]
    },
    {
      "cell_type": "code",
      "metadata": {
        "colab": {
          "base_uri": "https://localhost:8080/"
        },
        "id": "nHFVfodkZ_6b",
        "outputId": "f6702f20-c9db-46b7-8509-03ae3f091114"
      },
      "source": [
        "conf_matrix_svm = confusion_matrix(test_labels, svm_prediction)\n",
        "print(conf_matrix_svm)"
      ],
      "execution_count": null,
      "outputs": [
        {
          "output_type": "stream",
          "text": [
            "[[4972 3778]\n",
            " [2013 9235]]\n"
          ],
          "name": "stdout"
        }
      ]
    },
    {
      "cell_type": "code",
      "metadata": {
        "id": "3NrbRmKnaLEx"
      },
      "source": [
        "test_vectorizer =tfidf.transform(test['SentimentText'].values.astype('U')).toarray()"
      ],
      "execution_count": null,
      "outputs": []
    },
    {
      "cell_type": "code",
      "metadata": {
        "colab": {
          "base_uri": "https://localhost:8080/"
        },
        "id": "Cnh4oPrKaQc3",
        "outputId": "0007b5a5-af6f-436d-8bdd-bf951c70e8fd"
      },
      "source": [
        "test_vectorizer.shape"
      ],
      "execution_count": null,
      "outputs": [
        {
          "output_type": "execute_result",
          "data": {
            "text/plain": [
              "(299989, 500)"
            ]
          },
          "metadata": {
            "tags": []
          },
          "execution_count": 122
        }
      ]
    },
    {
      "cell_type": "code",
      "metadata": {
        "id": "dZwlVWnjaUdN"
      },
      "source": [
        "final_predictions_mnb = mnb_classifier.predict(test_vectorizer)\n",
        "final_predictions_svm = svm_classifier.predict(test_vectorizer)"
      ],
      "execution_count": null,
      "outputs": []
    },
    {
      "cell_type": "code",
      "metadata": {
        "id": "yWQwjEs5aYI7"
      },
      "source": [
        "submission_df = pd.DataFrame()"
      ],
      "execution_count": null,
      "outputs": []
    },
    {
      "cell_type": "code",
      "metadata": {
        "id": "FnTQ4y_PacDw"
      },
      "source": [
        "submission_df['Id'] = test['ItemID']\n",
        "submission_df['target_mnb'] = final_predictions_mnb\n",
        "submission_df['target_svm'] = final_predictions_svm"
      ],
      "execution_count": null,
      "outputs": []
    },
    {
      "cell_type": "code",
      "metadata": {
        "colab": {
          "base_uri": "https://localhost:8080/"
        },
        "id": "7Ul3DlYvaflh",
        "outputId": "c255f511-c8ca-4baa-b466-9e21c83f4dac"
      },
      "source": [
        "submission_df['target_mnb'].value_counts()\n"
      ],
      "execution_count": null,
      "outputs": [
        {
          "output_type": "execute_result",
          "data": {
            "text/plain": [
              "1    215790\n",
              "0    84199 \n",
              "Name: target_mnb, dtype: int64"
            ]
          },
          "metadata": {
            "tags": []
          },
          "execution_count": 126
        }
      ]
    },
    {
      "cell_type": "code",
      "metadata": {
        "colab": {
          "base_uri": "https://localhost:8080/"
        },
        "id": "XCZJRF6uamkU",
        "outputId": "72b80009-e1fd-4180-a817-3ac111fab2be"
      },
      "source": [
        "submission_df['target_svm'].value_counts()"
      ],
      "execution_count": null,
      "outputs": [
        {
          "output_type": "execute_result",
          "data": {
            "text/plain": [
              "1    209330\n",
              "0    90659 \n",
              "Name: target_svm, dtype: int64"
            ]
          },
          "metadata": {
            "tags": []
          },
          "execution_count": 127
        }
      ]
    },
    {
      "cell_type": "code",
      "metadata": {
        "colab": {
          "base_uri": "https://localhost:8080/",
          "height": 17
        },
        "id": "2SdK1o8LaqVs",
        "outputId": "d6cec5ad-d160-4419-dc24-1067bf44c525"
      },
      "source": [
        "submission = submission_df.to_csv('resultat_MNB_SVM.csv',index = False)\n",
        "files.download('resultat_MNB_SVM.csv')"
      ],
      "execution_count": null,
      "outputs": [
        {
          "output_type": "display_data",
          "data": {
            "application/javascript": [
              "\n",
              "    async function download(id, filename, size) {\n",
              "      if (!google.colab.kernel.accessAllowed) {\n",
              "        return;\n",
              "      }\n",
              "      const div = document.createElement('div');\n",
              "      const label = document.createElement('label');\n",
              "      label.textContent = `Downloading \"${filename}\": `;\n",
              "      div.appendChild(label);\n",
              "      const progress = document.createElement('progress');\n",
              "      progress.max = size;\n",
              "      div.appendChild(progress);\n",
              "      document.body.appendChild(div);\n",
              "\n",
              "      const buffers = [];\n",
              "      let downloaded = 0;\n",
              "\n",
              "      const channel = await google.colab.kernel.comms.open(id);\n",
              "      // Send a message to notify the kernel that we're ready.\n",
              "      channel.send({})\n",
              "\n",
              "      for await (const message of channel.messages) {\n",
              "        // Send a message to notify the kernel that we're ready.\n",
              "        channel.send({})\n",
              "        if (message.buffers) {\n",
              "          for (const buffer of message.buffers) {\n",
              "            buffers.push(buffer);\n",
              "            downloaded += buffer.byteLength;\n",
              "            progress.value = downloaded;\n",
              "          }\n",
              "        }\n",
              "      }\n",
              "      const blob = new Blob(buffers, {type: 'application/binary'});\n",
              "      const a = document.createElement('a');\n",
              "      a.href = window.URL.createObjectURL(blob);\n",
              "      a.download = filename;\n",
              "      div.appendChild(a);\n",
              "      a.click();\n",
              "      div.remove();\n",
              "    }\n",
              "  "
            ],
            "text/plain": [
              "<IPython.core.display.Javascript object>"
            ]
          },
          "metadata": {
            "tags": []
          }
        },
        {
          "output_type": "display_data",
          "data": {
            "application/javascript": [
              "download(\"download_4e9469dc-d062-42b1-b66b-bcb26d3ee32a\", \"resultat_MNB_SVM.csv\", 3188821)"
            ],
            "text/plain": [
              "<IPython.core.display.Javascript object>"
            ]
          },
          "metadata": {
            "tags": []
          }
        }
      ]
    },
    {
      "cell_type": "code",
      "metadata": {
        "colab": {
          "base_uri": "https://localhost:8080/"
        },
        "id": "fbYEM58pbDkC",
        "outputId": "405da2b1-e5a2-415a-b57f-fb4f28d538e5"
      },
      "source": [
        "train_df, test_df = train_test_split(trainG, test_size = 0.2, random_state = 42)\n",
        "print(\"Training data size : \", train_df.shape)\n",
        "print(\"Test data size : \", test_df.shape)"
      ],
      "execution_count": null,
      "outputs": [
        {
          "output_type": "stream",
          "text": [
            "Training data size :  (79991, 6)\n",
            "Test data size :  (19998, 6)\n"
          ],
          "name": "stdout"
        }
      ]
    },
    {
      "cell_type": "code",
      "metadata": {
        "id": "4ge88UI-bJLR"
      },
      "source": [
        "top_words = 10000\n",
        "tokenizer = Tokenizer(num_words=top_words)\n",
        "tokenizer.fit_on_texts(train_df['SentimentText'])\n",
        "list_tokenized_train = tokenizer.texts_to_sequences(train_df['SentimentText'])\n",
        "\n",
        "max_review_length = 85\n",
        "X_train = pad_sequences(list_tokenized_train, maxlen=max_review_length)\n",
        "y_train = train_df['Sentiment']"
      ],
      "execution_count": null,
      "outputs": []
    },
    {
      "cell_type": "code",
      "metadata": {
        "colab": {
          "base_uri": "https://localhost:8080/"
        },
        "id": "ccRBjV3SbMWC",
        "outputId": "90281367-7489-44be-edba-df333919d68d"
      },
      "source": [
        "embedding_vecor_length = 32\n",
        "model = Sequential()\n",
        "model.add(Embedding(top_words+1, embedding_vecor_length, input_length=max_review_length))\n",
        "model.add(LSTM(100))\n",
        "model.add(Dense(1, activation='sigmoid'))\n",
        "model.compile(loss='binary_crossentropy', optimizer='adam', metrics=['accuracy'])\n",
        "model.summary()"
      ],
      "execution_count": null,
      "outputs": [
        {
          "output_type": "stream",
          "text": [
            "Model: \"sequential\"\n",
            "_________________________________________________________________\n",
            "Layer (type)                 Output Shape              Param #   \n",
            "=================================================================\n",
            "embedding (Embedding)        (None, 85, 32)            320032    \n",
            "_________________________________________________________________\n",
            "lstm (LSTM)                  (None, 100)               53200     \n",
            "_________________________________________________________________\n",
            "dense (Dense)                (None, 1)                 101       \n",
            "=================================================================\n",
            "Total params: 373,333\n",
            "Trainable params: 373,333\n",
            "Non-trainable params: 0\n",
            "_________________________________________________________________\n"
          ],
          "name": "stdout"
        }
      ]
    },
    {
      "cell_type": "code",
      "metadata": {
        "colab": {
          "base_uri": "https://localhost:8080/"
        },
        "id": "2nwFQOX6bRUf",
        "outputId": "acaed881-ef21-40b0-de24-6e0e3e0d12f0"
      },
      "source": [
        "history = model.fit(X_train,y_train,epochs = 4, batch_size=64, validation_split=0.25)"
      ],
      "execution_count": null,
      "outputs": [
        {
          "output_type": "stream",
          "text": [
            "Epoch 1/4\n",
            "938/938 [==============================] - 100s 106ms/step - loss: 0.4026 - accuracy: 0.8100 - val_loss: 0.5577 - val_accuracy: 0.7349\n",
            "Epoch 2/4\n",
            "938/938 [==============================] - 99s 106ms/step - loss: 0.3600 - accuracy: 0.8303 - val_loss: 0.6209 - val_accuracy: 0.7264\n",
            "Epoch 3/4\n",
            "938/938 [==============================] - 100s 106ms/step - loss: 0.3183 - accuracy: 0.8502 - val_loss: 0.6864 - val_accuracy: 0.7198\n",
            "Epoch 4/4\n",
            "938/938 [==============================] - 101s 107ms/step - loss: 0.2816 - accuracy: 0.8692 - val_loss: 0.8295 - val_accuracy: 0.7149\n"
          ],
          "name": "stdout"
        }
      ]
    },
    {
      "cell_type": "code",
      "metadata": {
        "colab": {
          "base_uri": "https://localhost:8080/"
        },
        "id": "GfVaQgUpbVpV",
        "outputId": "517725cf-9320-4aad-8db6-a5254d8128e9"
      },
      "source": [
        "import sklearn.metrics as metrics\n",
        "from sklearn.metrics import f1_score\n",
        "list_tokenized_test = tokenizer.texts_to_sequences(test_df['SentimentText'])\n",
        "X_test = pad_sequences(list_tokenized_test, maxlen=max_review_length)\n",
        "y_test = test_df['Sentiment']\n",
        "prediction = model.predict(X_test)\n",
        "y_pred = (prediction > 0.5)\n",
        "print(\"Accuracy of the model : \", accuracy_score(y_pred, y_test))\n",
        "print('F1-score: ', f1_score(y_pred, y_test))\n",
        "print('Confusion matrix:')\n",
        "confusion_matrix(y_test,y_pred)"
      ],
      "execution_count": null,
      "outputs": [
        {
          "output_type": "stream",
          "text": [
            "Accuracy of the model :  0.7215221522152215\n",
            "F1-score:  0.75357316695429\n",
            "Confusion matrix:\n"
          ],
          "name": "stdout"
        },
        {
          "output_type": "execute_result",
          "data": {
            "text/plain": [
              "array([[5914, 2836],\n",
              "       [2733, 8515]])"
            ]
          },
          "metadata": {
            "tags": []
          },
          "execution_count": 138
        }
      ]
    },
    {
      "cell_type": "code",
      "metadata": {
        "colab": {
          "base_uri": "https://localhost:8080/",
          "height": 693
        },
        "id": "-Wu4k4mgb8nz",
        "outputId": "e427e4d2-f3bc-4f2b-9663-425f4c6e6f1f"
      },
      "source": [
        "# list all data in history\n",
        "print(history.history.keys())\n",
        "# summarize history for accuracy\n",
        "plt.plot(history.history['accuracy'])\n",
        "plt.plot(history.history['val_accuracy'])\n",
        "plt.title('model accuracy')\n",
        "plt.ylabel('accuracy')\n",
        "plt.xlabel('epoch')\n",
        "plt.legend(['train', 'test'], loc='upper left')\n",
        "plt.show()\n",
        "# summarize history for loss\n",
        "plt.plot(history.history['loss'])\n",
        "plt.plot(history.history['val_loss'])\n",
        "plt.title('model loss')\n",
        "plt.ylabel('loss')\n",
        "plt.xlabel('epoch')\n",
        "plt.legend(['train', 'test'], loc='upper left')"
      ],
      "execution_count": null,
      "outputs": [
        {
          "output_type": "stream",
          "text": [
            "dict_keys(['loss', 'accuracy', 'val_loss', 'val_accuracy'])\n"
          ],
          "name": "stdout"
        },
        {
          "output_type": "display_data",
          "data": {
            "image/png": "[encoded data removed]",
            "text/plain": [
              "<Figure size 1080x360 with 1 Axes>"
            ]
          },
          "metadata": {
            "tags": []
          }
        },
        {
          "output_type": "execute_result",
          "data": {
            "text/plain": [
              "<matplotlib.legend.Legend at 0x7fa68e1c3128>"
            ]
          },
          "metadata": {
            "tags": []
          },
          "execution_count": 139
        },
        {
          "output_type": "display_data",
          "data": {
            "image/png": "[encoded data removed]",
            "text/plain": [
              "<Figure size 1080x360 with 1 Axes>"
            ]
          },
          "metadata": {
            "tags": []
          }
        }
      ]
    }
  ]
}